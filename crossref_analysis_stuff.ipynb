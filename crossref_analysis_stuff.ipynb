{
 "cells": [
  {
   "cell_type": "code",
   "execution_count": 2,
   "metadata": {},
   "outputs": [],
   "source": [
    "import numpy as np\n",
    "import pandas as pd\n",
    "import matplotlib.pyplot as plt"
   ]
  },
  {
   "cell_type": "code",
   "execution_count": 3,
   "metadata": {},
   "outputs": [],
   "source": [
    "df = pd.read_csv('prepr_abstract_field_GM_all_1.csv')"
   ]
  },
  {
   "cell_type": "code",
   "execution_count": 3,
   "metadata": {},
   "outputs": [
    {
     "data": {
      "text/html": [
       "<div>\n",
       "<style scoped>\n",
       "    .dataframe tbody tr th:only-of-type {\n",
       "        vertical-align: middle;\n",
       "    }\n",
       "\n",
       "    .dataframe tbody tr th {\n",
       "        vertical-align: top;\n",
       "    }\n",
       "\n",
       "    .dataframe thead th {\n",
       "        text-align: right;\n",
       "    }\n",
       "</style>\n",
       "<table border=\"1\" class=\"dataframe\">\n",
       "  <thead>\n",
       "    <tr style=\"text-align: right;\">\n",
       "      <th></th>\n",
       "      <th>id</th>\n",
       "      <th>field</th>\n",
       "      <th>prepr_abstract</th>\n",
       "      <th>lang</th>\n",
       "    </tr>\n",
       "  </thead>\n",
       "  <tbody>\n",
       "    <tr>\n",
       "      <th>0</th>\n",
       "      <td>0</td>\n",
       "      <td>Humanities</td>\n",
       "      <td>scholars have identified two supposedly separa...</td>\n",
       "      <td>en</td>\n",
       "    </tr>\n",
       "    <tr>\n",
       "      <th>1</th>\n",
       "      <td>1</td>\n",
       "      <td>Humanities</td>\n",
       "      <td>a discussion of the second part of lucretius' ...</td>\n",
       "      <td>en</td>\n",
       "    </tr>\n",
       "    <tr>\n",
       "      <th>2</th>\n",
       "      <td>2</td>\n",
       "      <td>Humanities</td>\n",
       "      <td>according to many ancient historians the secon...</td>\n",
       "      <td>en</td>\n",
       "    </tr>\n",
       "    <tr>\n",
       "      <th>3</th>\n",
       "      <td>3</td>\n",
       "      <td>Humanities</td>\n",
       "      <td>the old persian line in aristophanes' acharnia...</td>\n",
       "      <td>en</td>\n",
       "    </tr>\n",
       "    <tr>\n",
       "      <th>4</th>\n",
       "      <td>4</td>\n",
       "      <td>Humanities</td>\n",
       "      <td>this essay presents a sketch of a sociological...</td>\n",
       "      <td>en</td>\n",
       "    </tr>\n",
       "  </tbody>\n",
       "</table>\n",
       "</div>"
      ],
      "text/plain": [
       "   id       field                                     prepr_abstract lang\n",
       "0   0  Humanities  scholars have identified two supposedly separa...   en\n",
       "1   1  Humanities  a discussion of the second part of lucretius' ...   en\n",
       "2   2  Humanities  according to many ancient historians the secon...   en\n",
       "3   3  Humanities  the old persian line in aristophanes' acharnia...   en\n",
       "4   4  Humanities  this essay presents a sketch of a sociological...   en"
      ]
     },
     "execution_count": 3,
     "metadata": {},
     "output_type": "execute_result"
    }
   ],
   "source": [
    "df.head()"
   ]
  },
  {
   "cell_type": "code",
   "execution_count": 6,
   "metadata": {},
   "outputs": [
    {
     "data": {
      "text/plain": [
       "array(['Art', 'Biology', 'Business', 'Chemistry', 'Geology', 'Humanities',\n",
       "       'Math', 'Medicine', 'Physics', 'Psychology', 'Social', 'Tech'],\n",
       "      dtype=object)"
      ]
     },
     "execution_count": 6,
     "metadata": {},
     "output_type": "execute_result"
    }
   ],
   "source": [
    "np.unique(df.field)"
   ]
  },
  {
   "cell_type": "code",
   "execution_count": 4,
   "metadata": {},
   "outputs": [],
   "source": [
    "df = df[df.field != '???']"
   ]
  },
  {
   "cell_type": "code",
   "execution_count": 5,
   "metadata": {},
   "outputs": [],
   "source": [
    "def field2hyperfield(field):\n",
    "    f2h = {'Art': 'Art and Humanities',\n",
    "           'Biology': 'Biology and Medicine',\n",
    "           'Business': 'Business',\n",
    "           'Chemistry': 'Natural',\n",
    "           'Geology': 'Natural',\n",
    "           'Humanities': 'Art and Humanities',\n",
    "           'Math': 'Formal',\n",
    "           'Medicine': 'Biology and Medicine',\n",
    "           'Physics': 'Natural',\n",
    "           'Psychology': 'Biology and Medicine',\n",
    "           'Social': 'Art and Humanities',\n",
    "           'Tech': 'Formal'}\n",
    "    return f2h[field]"
   ]
  },
  {
   "cell_type": "code",
   "execution_count": 5,
   "metadata": {},
   "outputs": [],
   "source": [
    "df['hyperfield'] = df['field'].apply(field2hyperfield)"
   ]
  },
  {
   "cell_type": "code",
   "execution_count": 6,
   "metadata": {},
   "outputs": [
    {
     "name": "stdout",
     "output_type": "stream",
     "text": [
      "Biology 445100\n",
      "Business 33501\n",
      "Chemistry 188663\n",
      "Geology 48141\n",
      "Humanities 142009\n",
      "Math 71148\n",
      "Medicine 625736\n",
      "Physics 412923\n",
      "Psychology 40564\n",
      "Social 52528\n",
      "Tech 32762\n"
     ]
    }
   ],
   "source": [
    "for field in np.unique(df.field):\n",
    "    print(field, df[df.field == field].shape[0])"
   ]
  },
  {
   "cell_type": "code",
   "execution_count": 5,
   "metadata": {},
   "outputs": [],
   "source": [
    "def func(x):\n",
    "    if x == 'Art':\n",
    "        return 'Humanities'\n",
    "    else:\n",
    "        return x\n",
    "\n",
    "df['field'] = df['field'].apply(func)"
   ]
  },
  {
   "cell_type": "code",
   "execution_count": 68,
   "metadata": {},
   "outputs": [],
   "source": [
    "df_balanced = pd.concat(\n",
    "    [\n",
    "        df[df.field == 'Biology'].sample(np.random.randint(500, 700)),\n",
    "        #df[df.field == 'Chemistry'].sample(np.random.randint(500, 700)),\n",
    "        #df[df.field == 'Humanities'].sample(np.random.randint(500, 700)),\n",
    "        #df[df.field == 'Medicine'].sample(np.random.randint(500, 700)),\n",
    "        df[df.field == 'Physics'].sample(np.random.randint(500, 700)),\n",
    "        #df[df.field == 'Math'].sample(np.random.randint(500, 700)),\n",
    "        #df[df.field == 'Business'].sample(np.random.randint(100, 150)),\n",
    "        df[df.field == 'Geology'].sample(np.random.randint(500, 700)),\n",
    "        #df[df.field == 'Psychology'].sample(np.random.randint(100, 150)),\n",
    "        #df[df.field == 'Social'].sample(np.random.randint(100, 150)),\n",
    "        #df[df.field == 'Tech'].sample(np.random.randint(500, 700))\n",
    "    ],\n",
    "    ignore_index=True)"
   ]
  },
  {
   "cell_type": "code",
   "execution_count": 46,
   "metadata": {},
   "outputs": [],
   "source": [
    "df.dropna(inplace=True)"
   ]
  },
  {
   "cell_type": "code",
   "execution_count": 22,
   "metadata": {},
   "outputs": [],
   "source": [
    "from sklearn.feature_extraction.text import HashingVectorizer\n",
    "from sklearn.pipeline import make_pipeline"
   ]
  },
  {
   "cell_type": "code",
   "execution_count": 23,
   "metadata": {},
   "outputs": [],
   "source": [
    "vectorizer = HashingVectorizer(ngram_range=(1, 2), stop_words='english')"
   ]
  },
  {
   "cell_type": "code",
   "execution_count": 71,
   "metadata": {},
   "outputs": [],
   "source": [
    "X = df_balanced['prepr_abstract']"
   ]
  },
  {
   "cell_type": "code",
   "execution_count": 72,
   "metadata": {},
   "outputs": [],
   "source": [
    "from sklearn.model_selection import train_test_split\n",
    "\n",
    "labels = df_balanced['field']\n",
    "X_train, X_test, y_train, y_test = train_test_split(X, labels, train_size=0.8, test_size=.2,\n",
    "                                                    random_state=1337, stratify=labels)"
   ]
  },
  {
   "cell_type": "code",
   "execution_count": 73,
   "metadata": {},
   "outputs": [
    {
     "data": {
      "text/plain": [
       "437"
      ]
     },
     "execution_count": 73,
     "metadata": {},
     "output_type": "execute_result"
    }
   ],
   "source": [
    "import gc\n",
    "gc.collect()"
   ]
  },
  {
   "cell_type": "code",
   "execution_count": 74,
   "metadata": {},
   "outputs": [
    {
     "data": {
      "text/plain": [
       "(1480,)"
      ]
     },
     "execution_count": 74,
     "metadata": {},
     "output_type": "execute_result"
    }
   ],
   "source": [
    "X_train.shape"
   ]
  },
  {
   "cell_type": "code",
   "execution_count": 75,
   "metadata": {},
   "outputs": [],
   "source": [
    "from sklearn.feature_extraction.text import TfidfVectorizer\n",
    "\n",
    "vectorizer = TfidfVectorizer(ngram_range=(1, 2))"
   ]
  },
  {
   "cell_type": "code",
   "execution_count": 76,
   "metadata": {},
   "outputs": [],
   "source": [
    "features = vectorizer.fit_transform(X_train, y_train)"
   ]
  },
  {
   "cell_type": "code",
   "execution_count": 77,
   "metadata": {},
   "outputs": [],
   "source": [
    "from scipy.sparse import save_npz\n",
    "\n",
    "save_npz('features_3cat_geo.npz', features)"
   ]
  },
  {
   "cell_type": "code",
   "execution_count": 78,
   "metadata": {},
   "outputs": [],
   "source": [
    "np.save('labels_3cat_geo.npy', np.array(y_train))"
   ]
  },
  {
   "cell_type": "code",
   "execution_count": 67,
   "metadata": {},
   "outputs": [
    {
     "name": "stdout",
     "output_type": "stream",
     "text": [
      "Explained variance of the SVD step: 0%\n"
     ]
    }
   ],
   "source": [
    "from sklearn.pipeline import make_pipeline\n",
    "from sklearn.preprocessing import Normalizer\n",
    "from sklearn.decomposition import TruncatedSVD\n",
    "\n",
    "\n",
    "svd = TruncatedSVD(2)\n",
    "normalizer = Normalizer(copy=False)\n",
    "lsa = make_pipeline(svd, normalizer)\n",
    "\n",
    "features = lsa.fit_transform(features)\n",
    "\n",
    "explained_variance = svd.explained_variance_ratio_.sum()\n",
    "print(\"Explained variance of the SVD step: {}%\".format(int(explained_variance * 100)))"
   ]
  },
  {
   "cell_type": "code",
   "execution_count": 68,
   "metadata": {},
   "outputs": [],
   "source": [
    "np.save('features_phys_med.npy', features)"
   ]
  },
  {
   "cell_type": "code",
   "execution_count": 52,
   "metadata": {},
   "outputs": [],
   "source": [
    "from sklearn.cluster import MiniBatchKMeans\n",
    "\n",
    "km = MiniBatchKMeans(n_clusters=np.unique(labels).shape[0], verbose=True, random_state=1337,\n",
    "                     batch_size=10_000)"
   ]
  },
  {
   "cell_type": "code",
   "execution_count": 53,
   "metadata": {},
   "outputs": [
    {
     "name": "stdout",
     "output_type": "stream",
     "text": [
      "Init 1/3 with method: k-means++\n",
      "Inertia for init 1/3: 18869.424591\n",
      "Init 2/3 with method: k-means++\n",
      "Inertia for init 2/3: 18863.581925\n",
      "Init 3/3 with method: k-means++\n",
      "Inertia for init 3/3: 18875.065619\n",
      "Minibatch iteration 1/200: mean batch inertia: 0.981187, ewa inertia: 0.981187 \n",
      "Minibatch iteration 2/200: mean batch inertia: 0.979964, ewa inertia: 0.979964 \n",
      "Minibatch iteration 3/200: mean batch inertia: 0.979101, ewa inertia: 0.979101 \n",
      "Minibatch iteration 4/200: mean batch inertia: 0.978835, ewa inertia: 0.978835 \n",
      "Minibatch iteration 5/200: mean batch inertia: 0.978480, ewa inertia: 0.978480 \n",
      "Minibatch iteration 6/200: mean batch inertia: 0.978003, ewa inertia: 0.978003 \n",
      "Minibatch iteration 7/200: mean batch inertia: 0.977990, ewa inertia: 0.977990 \n",
      "Minibatch iteration 8/200: mean batch inertia: 0.977888, ewa inertia: 0.977888 \n",
      "Minibatch iteration 9/200: mean batch inertia: 0.977600, ewa inertia: 0.977600 \n",
      "Minibatch iteration 10/200: mean batch inertia: 0.976911, ewa inertia: 0.976911 \n",
      "Minibatch iteration 11/200: mean batch inertia: 0.977699, ewa inertia: 0.977699 \n",
      "Minibatch iteration 12/200: mean batch inertia: 0.977167, ewa inertia: 0.977167 \n",
      "Minibatch iteration 13/200: mean batch inertia: 0.977423, ewa inertia: 0.977423 \n",
      "Minibatch iteration 14/200: mean batch inertia: 0.977250, ewa inertia: 0.977250 \n",
      "Minibatch iteration 15/200: mean batch inertia: 0.977067, ewa inertia: 0.977067 \n",
      "Minibatch iteration 16/200: mean batch inertia: 0.976941, ewa inertia: 0.976941 \n",
      "Minibatch iteration 17/200: mean batch inertia: 0.976848, ewa inertia: 0.976848 \n",
      "Minibatch iteration 18/200: mean batch inertia: 0.976836, ewa inertia: 0.976836 \n",
      "Minibatch iteration 19/200: mean batch inertia: 0.975985, ewa inertia: 0.975985 \n",
      "Minibatch iteration 20/200: mean batch inertia: 0.976823, ewa inertia: 0.976823 \n",
      "Minibatch iteration 21/200: mean batch inertia: 0.976875, ewa inertia: 0.976875 \n",
      "Minibatch iteration 22/200: mean batch inertia: 0.976768, ewa inertia: 0.976768 \n",
      "Minibatch iteration 23/200: mean batch inertia: 0.976654, ewa inertia: 0.976654 \n",
      "Minibatch iteration 24/200: mean batch inertia: 0.976852, ewa inertia: 0.976852 \n",
      "Minibatch iteration 25/200: mean batch inertia: 0.976630, ewa inertia: 0.976630 \n",
      "Minibatch iteration 26/200: mean batch inertia: 0.976608, ewa inertia: 0.976608 \n",
      "Minibatch iteration 27/200: mean batch inertia: 0.976418, ewa inertia: 0.976418 \n",
      "Minibatch iteration 28/200: mean batch inertia: 0.976277, ewa inertia: 0.976277 \n",
      "Minibatch iteration 29/200: mean batch inertia: 0.976439, ewa inertia: 0.976439 \n",
      "Converged (lack of improvement in inertia) at iteration 29/200\n",
      "Computing label assignment and total inertia\n"
     ]
    },
    {
     "data": {
      "text/plain": [
       "MiniBatchKMeans(batch_size=10000, compute_labels=True, init='k-means++',\n",
       "        init_size=None, max_iter=100, max_no_improvement=10, n_clusters=11,\n",
       "        n_init=3, random_state=1337, reassignment_ratio=0.01, tol=0.0,\n",
       "        verbose=True)"
      ]
     },
     "execution_count": 53,
     "metadata": {},
     "output_type": "execute_result"
    }
   ],
   "source": [
    "km.fit(features)"
   ]
  },
  {
   "cell_type": "code",
   "execution_count": 54,
   "metadata": {},
   "outputs": [
    {
     "name": "stdout",
     "output_type": "stream",
     "text": [
      "Homogeneity: 0.240\n",
      "Completeness: 0.252\n",
      "V-measure: 0.246\n",
      "Adjusted Rand-Index: 0.147\n"
     ]
    }
   ],
   "source": [
    "from sklearn import metrics\n",
    "\n",
    "labels = y_train\n",
    "\n",
    "print(\"Homogeneity: %0.3f\" % metrics.homogeneity_score(labels, km.labels_))\n",
    "print(\"Completeness: %0.3f\" % metrics.completeness_score(labels, km.labels_))\n",
    "print(\"V-measure: %0.3f\" % metrics.v_measure_score(labels, km.labels_))\n",
    "print(\"Adjusted Rand-Index: %.3f\"\n",
    "      % metrics.adjusted_rand_score(labels, km.labels_))"
   ]
  },
  {
   "cell_type": "code",
   "execution_count": 55,
   "metadata": {},
   "outputs": [
    {
     "data": {
      "image/png": "[encoded data removed]",
      "text/plain": [
       "<matplotlib.figure.Figure at 0x4c6fbf02b0>"
      ]
     },
     "metadata": {},
     "output_type": "display_data"
    }
   ],
   "source": [
    "from collections import Counter\n",
    "\n",
    "fig, (ax1, ax2) = plt.subplots(2, figsize=(15, 10))\n",
    "\n",
    "l, values = zip(*Counter(labels).items())\n",
    "\n",
    "indexes = np.arange(len(l))\n",
    "width = 1\n",
    "\n",
    "ax1.bar(indexes, values, width)\n",
    "ax1.set_title('true')\n",
    "ax1.set_xticks(indexes + width * 0.5, l)\n",
    "\n",
    "ax2.hist(km.labels_)\n",
    "ax2.set_title('kmeans')\n",
    "\n",
    "plt.show()"
   ]
  },
  {
   "cell_type": "code",
   "execution_count": 56,
   "metadata": {},
   "outputs": [
    {
     "name": "stdout",
     "output_type": "stream",
     "text": [
      "Biology 2973\n",
      "Business 2838\n",
      "Chemistry 2571\n",
      "Geology 2283\n",
      "Humanities 2808\n",
      "Math 2163\n",
      "Medicine 2412\n",
      "Physics 2178\n",
      "Psychology 2008\n",
      "Social 2363\n",
      "Tech 2892\n"
     ]
    }
   ],
   "source": [
    "for field in np.unique(df_balanced.field):\n",
    "    print(field, df_balanced[df_balanced.field == field].shape[0])"
   ]
  },
  {
   "cell_type": "code",
   "execution_count": null,
   "metadata": {},
   "outputs": [],
   "source": []
  }
 ],
 "metadata": {
  "kernelspec": {
   "display_name": "Python 3",
   "language": "python",
   "name": "python3"
  },
  "language_info": {
   "codemirror_mode": {
    "name": "ipython",
    "version": 3
   },
   "file_extension": ".py",
   "mimetype": "text/x-python",
   "name": "python",
   "nbconvert_exporter": "python",
   "pygments_lexer": "ipython3",
   "version": "3.6.1"
  }
 },
 "nbformat": 4,
 "nbformat_minor": 2
}
