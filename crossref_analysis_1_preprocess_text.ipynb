{
  "nbformat": 4,
  "nbformat_minor": 0,
  "metadata": {
    "colab": {
      "name": "crossref_analysis_preprocess_text.ipynb",
      "provenance": []
    },
    "kernelspec": {
      "name": "python3",
      "display_name": "Python 3"
    },
    "widgets": {
      "application/vnd.jupyter.widget-state+json": {
        "3e94b9ddd2f1403b831b3a8eb6f9722c": {
          "model_module": "@jupyter-widgets/controls",
          "model_name": "HBoxModel",
          "state": {
            "_view_name": "HBoxView",
            "_dom_classes": [],
            "_model_name": "HBoxModel",
            "_view_module": "@jupyter-widgets/controls",
            "_model_module_version": "1.5.0",
            "_view_count": null,
            "_view_module_version": "1.5.0",
            "box_style": "",
            "layout": "IPY_MODEL_72e4f8b7044f4286b987c21db5991b95",
            "_model_module": "@jupyter-widgets/controls",
            "children": [
              "IPY_MODEL_c09f02e1f5d447b985b33ad9644fa263",
              "IPY_MODEL_7976c833f7e14477a5363580a84af9eb"
            ]
          }
        },
        "72e4f8b7044f4286b987c21db5991b95": {
          "model_module": "@jupyter-widgets/base",
          "model_name": "LayoutModel",
          "state": {
            "_view_name": "LayoutView",
            "grid_template_rows": null,
            "right": null,
            "justify_content": null,
            "_view_module": "@jupyter-widgets/base",
            "overflow": null,
            "_model_module_version": "1.2.0",
            "_view_count": null,
            "flex_flow": null,
            "width": null,
            "min_width": null,
            "border": null,
            "align_items": null,
            "bottom": null,
            "_model_module": "@jupyter-widgets/base",
            "top": null,
            "grid_column": null,
            "overflow_y": null,
            "overflow_x": null,
            "grid_auto_flow": null,
            "grid_area": null,
            "grid_template_columns": null,
            "flex": null,
            "_model_name": "LayoutModel",
            "justify_items": null,
            "grid_row": null,
            "max_height": null,
            "align_content": null,
            "visibility": null,
            "align_self": null,
            "height": null,
            "min_height": null,
            "padding": null,
            "grid_auto_rows": null,
            "grid_gap": null,
            "max_width": null,
            "order": null,
            "_view_module_version": "1.2.0",
            "grid_template_areas": null,
            "object_position": null,
            "object_fit": null,
            "grid_auto_columns": null,
            "margin": null,
            "display": null,
            "left": null
          }
        },
        "c09f02e1f5d447b985b33ad9644fa263": {
          "model_module": "@jupyter-widgets/controls",
          "model_name": "FloatProgressModel",
          "state": {
            "_view_name": "ProgressView",
            "style": "IPY_MODEL_f8d607e5bc8b40babedd79e38dfc1a11",
            "_dom_classes": [],
            "description": "",
            "_model_name": "FloatProgressModel",
            "bar_style": "success",
            "max": 1,
            "_view_module": "@jupyter-widgets/controls",
            "_model_module_version": "1.5.0",
            "value": 1,
            "_view_count": null,
            "_view_module_version": "1.5.0",
            "orientation": "horizontal",
            "min": 0,
            "description_tooltip": null,
            "_model_module": "@jupyter-widgets/controls",
            "layout": "IPY_MODEL_d4c197ff8c214dc38baebff65e9403b4"
          }
        },
        "7976c833f7e14477a5363580a84af9eb": {
          "model_module": "@jupyter-widgets/controls",
          "model_name": "HTMLModel",
          "state": {
            "_view_name": "HTMLView",
            "style": "IPY_MODEL_5fe13bfae7f2418fb26d41b5fc79adf8",
            "_dom_classes": [],
            "description": "",
            "_model_name": "HTMLModel",
            "placeholder": "​",
            "_view_module": "@jupyter-widgets/controls",
            "_model_module_version": "1.5.0",
            "value": " 2307763/? [07:48&lt;00:00, 4921.64it/s]",
            "_view_count": null,
            "_view_module_version": "1.5.0",
            "description_tooltip": null,
            "_model_module": "@jupyter-widgets/controls",
            "layout": "IPY_MODEL_f02b153c084e4fee82e455c22e2bc04b"
          }
        },
        "f8d607e5bc8b40babedd79e38dfc1a11": {
          "model_module": "@jupyter-widgets/controls",
          "model_name": "ProgressStyleModel",
          "state": {
            "_view_name": "StyleView",
            "_model_name": "ProgressStyleModel",
            "description_width": "initial",
            "_view_module": "@jupyter-widgets/base",
            "_model_module_version": "1.5.0",
            "_view_count": null,
            "_view_module_version": "1.2.0",
            "bar_color": null,
            "_model_module": "@jupyter-widgets/controls"
          }
        },
        "d4c197ff8c214dc38baebff65e9403b4": {
          "model_module": "@jupyter-widgets/base",
          "model_name": "LayoutModel",
          "state": {
            "_view_name": "LayoutView",
            "grid_template_rows": null,
            "right": null,
            "justify_content": null,
            "_view_module": "@jupyter-widgets/base",
            "overflow": null,
            "_model_module_version": "1.2.0",
            "_view_count": null,
            "flex_flow": null,
            "width": null,
            "min_width": null,
            "border": null,
            "align_items": null,
            "bottom": null,
            "_model_module": "@jupyter-widgets/base",
            "top": null,
            "grid_column": null,
            "overflow_y": null,
            "overflow_x": null,
            "grid_auto_flow": null,
            "grid_area": null,
            "grid_template_columns": null,
            "flex": null,
            "_model_name": "LayoutModel",
            "justify_items": null,
            "grid_row": null,
            "max_height": null,
            "align_content": null,
            "visibility": null,
            "align_self": null,
            "height": null,
            "min_height": null,
            "padding": null,
            "grid_auto_rows": null,
            "grid_gap": null,
            "max_width": null,
            "order": null,
            "_view_module_version": "1.2.0",
            "grid_template_areas": null,
            "object_position": null,
            "object_fit": null,
            "grid_auto_columns": null,
            "margin": null,
            "display": null,
            "left": null
          }
        },
        "5fe13bfae7f2418fb26d41b5fc79adf8": {
          "model_module": "@jupyter-widgets/controls",
          "model_name": "DescriptionStyleModel",
          "state": {
            "_view_name": "StyleView",
            "_model_name": "DescriptionStyleModel",
            "description_width": "",
            "_view_module": "@jupyter-widgets/base",
            "_model_module_version": "1.5.0",
            "_view_count": null,
            "_view_module_version": "1.2.0",
            "_model_module": "@jupyter-widgets/controls"
          }
        },
        "f02b153c084e4fee82e455c22e2bc04b": {
          "model_module": "@jupyter-widgets/base",
          "model_name": "LayoutModel",
          "state": {
            "_view_name": "LayoutView",
            "grid_template_rows": null,
            "right": null,
            "justify_content": null,
            "_view_module": "@jupyter-widgets/base",
            "overflow": null,
            "_model_module_version": "1.2.0",
            "_view_count": null,
            "flex_flow": null,
            "width": null,
            "min_width": null,
            "border": null,
            "align_items": null,
            "bottom": null,
            "_model_module": "@jupyter-widgets/base",
            "top": null,
            "grid_column": null,
            "overflow_y": null,
            "overflow_x": null,
            "grid_auto_flow": null,
            "grid_area": null,
            "grid_template_columns": null,
            "flex": null,
            "_model_name": "LayoutModel",
            "justify_items": null,
            "grid_row": null,
            "max_height": null,
            "align_content": null,
            "visibility": null,
            "align_self": null,
            "height": null,
            "min_height": null,
            "padding": null,
            "grid_auto_rows": null,
            "grid_gap": null,
            "max_width": null,
            "order": null,
            "_view_module_version": "1.2.0",
            "grid_template_areas": null,
            "object_position": null,
            "object_fit": null,
            "grid_auto_columns": null,
            "margin": null,
            "display": null,
            "left": null
          }
        },
        "f37f45f3ba5f4b82bdae09d015992145": {
          "model_module": "@jupyter-widgets/controls",
          "model_name": "HBoxModel",
          "state": {
            "_view_name": "HBoxView",
            "_dom_classes": [],
            "_model_name": "HBoxModel",
            "_view_module": "@jupyter-widgets/controls",
            "_model_module_version": "1.5.0",
            "_view_count": null,
            "_view_module_version": "1.5.0",
            "box_style": "",
            "layout": "IPY_MODEL_16c7a3bb39524473b8ef53ff2c9be48c",
            "_model_module": "@jupyter-widgets/controls",
            "children": [
              "IPY_MODEL_4255979fec4240d58c5664f578032f7d",
              "IPY_MODEL_721c3f1be4944d778a2eebcb4325d604"
            ]
          }
        },
        "16c7a3bb39524473b8ef53ff2c9be48c": {
          "model_module": "@jupyter-widgets/base",
          "model_name": "LayoutModel",
          "state": {
            "_view_name": "LayoutView",
            "grid_template_rows": null,
            "right": null,
            "justify_content": null,
            "_view_module": "@jupyter-widgets/base",
            "overflow": null,
            "_model_module_version": "1.2.0",
            "_view_count": null,
            "flex_flow": null,
            "width": null,
            "min_width": null,
            "border": null,
            "align_items": null,
            "bottom": null,
            "_model_module": "@jupyter-widgets/base",
            "top": null,
            "grid_column": null,
            "overflow_y": null,
            "overflow_x": null,
            "grid_auto_flow": null,
            "grid_area": null,
            "grid_template_columns": null,
            "flex": null,
            "_model_name": "LayoutModel",
            "justify_items": null,
            "grid_row": null,
            "max_height": null,
            "align_content": null,
            "visibility": null,
            "align_self": null,
            "height": null,
            "min_height": null,
            "padding": null,
            "grid_auto_rows": null,
            "grid_gap": null,
            "max_width": null,
            "order": null,
            "_view_module_version": "1.2.0",
            "grid_template_areas": null,
            "object_position": null,
            "object_fit": null,
            "grid_auto_columns": null,
            "margin": null,
            "display": null,
            "left": null
          }
        },
        "4255979fec4240d58c5664f578032f7d": {
          "model_module": "@jupyter-widgets/controls",
          "model_name": "FloatProgressModel",
          "state": {
            "_view_name": "ProgressView",
            "style": "IPY_MODEL_f0baa8d9a9f64d269cacddc114b75953",
            "_dom_classes": [],
            "description": "100%",
            "_model_name": "FloatProgressModel",
            "bar_style": "success",
            "max": 2307763,
            "_view_module": "@jupyter-widgets/controls",
            "_model_module_version": "1.5.0",
            "value": 2307763,
            "_view_count": null,
            "_view_module_version": "1.5.0",
            "orientation": "horizontal",
            "min": 0,
            "description_tooltip": null,
            "_model_module": "@jupyter-widgets/controls",
            "layout": "IPY_MODEL_8236bb172afb4936abeb205ccd9483b1"
          }
        },
        "721c3f1be4944d778a2eebcb4325d604": {
          "model_module": "@jupyter-widgets/controls",
          "model_name": "HTMLModel",
          "state": {
            "_view_name": "HTMLView",
            "style": "IPY_MODEL_be8a2b691e0f442c8b159315d5f603d5",
            "_dom_classes": [],
            "description": "",
            "_model_name": "HTMLModel",
            "placeholder": "​",
            "_view_module": "@jupyter-widgets/controls",
            "_model_module_version": "1.5.0",
            "value": " 2307763/2307763 [16:59&lt;00:00, 2264.14it/s]",
            "_view_count": null,
            "_view_module_version": "1.5.0",
            "description_tooltip": null,
            "_model_module": "@jupyter-widgets/controls",
            "layout": "IPY_MODEL_73b295d2c18b42f2ada8b5598b254ac3"
          }
        },
        "f0baa8d9a9f64d269cacddc114b75953": {
          "model_module": "@jupyter-widgets/controls",
          "model_name": "ProgressStyleModel",
          "state": {
            "_view_name": "StyleView",
            "_model_name": "ProgressStyleModel",
            "description_width": "initial",
            "_view_module": "@jupyter-widgets/base",
            "_model_module_version": "1.5.0",
            "_view_count": null,
            "_view_module_version": "1.2.0",
            "bar_color": null,
            "_model_module": "@jupyter-widgets/controls"
          }
        },
        "8236bb172afb4936abeb205ccd9483b1": {
          "model_module": "@jupyter-widgets/base",
          "model_name": "LayoutModel",
          "state": {
            "_view_name": "LayoutView",
            "grid_template_rows": null,
            "right": null,
            "justify_content": null,
            "_view_module": "@jupyter-widgets/base",
            "overflow": null,
            "_model_module_version": "1.2.0",
            "_view_count": null,
            "flex_flow": null,
            "width": null,
            "min_width": null,
            "border": null,
            "align_items": null,
            "bottom": null,
            "_model_module": "@jupyter-widgets/base",
            "top": null,
            "grid_column": null,
            "overflow_y": null,
            "overflow_x": null,
            "grid_auto_flow": null,
            "grid_area": null,
            "grid_template_columns": null,
            "flex": null,
            "_model_name": "LayoutModel",
            "justify_items": null,
            "grid_row": null,
            "max_height": null,
            "align_content": null,
            "visibility": null,
            "align_self": null,
            "height": null,
            "min_height": null,
            "padding": null,
            "grid_auto_rows": null,
            "grid_gap": null,
            "max_width": null,
            "order": null,
            "_view_module_version": "1.2.0",
            "grid_template_areas": null,
            "object_position": null,
            "object_fit": null,
            "grid_auto_columns": null,
            "margin": null,
            "display": null,
            "left": null
          }
        },
        "be8a2b691e0f442c8b159315d5f603d5": {
          "model_module": "@jupyter-widgets/controls",
          "model_name": "DescriptionStyleModel",
          "state": {
            "_view_name": "StyleView",
            "_model_name": "DescriptionStyleModel",
            "description_width": "",
            "_view_module": "@jupyter-widgets/base",
            "_model_module_version": "1.5.0",
            "_view_count": null,
            "_view_module_version": "1.2.0",
            "_model_module": "@jupyter-widgets/controls"
          }
        },
        "73b295d2c18b42f2ada8b5598b254ac3": {
          "model_module": "@jupyter-widgets/base",
          "model_name": "LayoutModel",
          "state": {
            "_view_name": "LayoutView",
            "grid_template_rows": null,
            "right": null,
            "justify_content": null,
            "_view_module": "@jupyter-widgets/base",
            "overflow": null,
            "_model_module_version": "1.2.0",
            "_view_count": null,
            "flex_flow": null,
            "width": null,
            "min_width": null,
            "border": null,
            "align_items": null,
            "bottom": null,
            "_model_module": "@jupyter-widgets/base",
            "top": null,
            "grid_column": null,
            "overflow_y": null,
            "overflow_x": null,
            "grid_auto_flow": null,
            "grid_area": null,
            "grid_template_columns": null,
            "flex": null,
            "_model_name": "LayoutModel",
            "justify_items": null,
            "grid_row": null,
            "max_height": null,
            "align_content": null,
            "visibility": null,
            "align_self": null,
            "height": null,
            "min_height": null,
            "padding": null,
            "grid_auto_rows": null,
            "grid_gap": null,
            "max_width": null,
            "order": null,
            "_view_module_version": "1.2.0",
            "grid_template_areas": null,
            "object_position": null,
            "object_fit": null,
            "grid_auto_columns": null,
            "margin": null,
            "display": null,
            "left": null
          }
        }
      }
    }
  },
  "cells": [
    {
      "cell_type": "code",
      "metadata": {
        "id": "ZipeD5C8uPo6",
        "colab_type": "code",
        "colab": {}
      },
      "source": [
        "import numpy as np\n",
        "import pandas as pd\n",
        "import matplotlib.pyplot as plt"
      ],
      "execution_count": 0,
      "outputs": []
    },
    {
      "cell_type": "code",
      "metadata": {
        "id": "dlOlA0MguWl6",
        "colab_type": "code",
        "colab": {}
      },
      "source": [
        "df = pd.read_csv('/content/drive/My Drive/coursepaper2020/has_subject.csv')"
      ],
      "execution_count": 0,
      "outputs": []
    },
    {
      "cell_type": "code",
      "metadata": {
        "id": "ZGtpQZDKvPdo",
        "colab_type": "code",
        "outputId": "9cd5c5d2-7caf-4b8d-952f-b3264c04141a",
        "colab": {
          "base_uri": "https://localhost:8080/",
          "height": 262
        }
      },
      "source": [
        "df.head()"
      ],
      "execution_count": 0,
      "outputs": [
        {
          "output_type": "execute_result",
          "data": {
            "text/html": [
              "<div>\n",
              "<style scoped>\n",
              "    .dataframe tbody tr th:only-of-type {\n",
              "        vertical-align: middle;\n",
              "    }\n",
              "\n",
              "    .dataframe tbody tr th {\n",
              "        vertical-align: top;\n",
              "    }\n",
              "\n",
              "    .dataframe thead th {\n",
              "        text-align: right;\n",
              "    }\n",
              "</style>\n",
              "<table border=\"1\" class=\"dataframe\">\n",
              "  <thead>\n",
              "    <tr style=\"text-align: right;\">\n",
              "      <th></th>\n",
              "      <th>DOI</th>\n",
              "      <th>title</th>\n",
              "      <th>abstract</th>\n",
              "      <th>subject</th>\n",
              "    </tr>\n",
              "  </thead>\n",
              "  <tbody>\n",
              "    <tr>\n",
              "      <th>NaN</th>\n",
              "      <td>DOI</td>\n",
              "      <td>title</td>\n",
              "      <td>abstract</td>\n",
              "      <td>subject</td>\n",
              "    </tr>\n",
              "    <tr>\n",
              "      <th>1468.0</th>\n",
              "      <td>10.1163/1568525043083505</td>\n",
              "      <td>['Aristotle FR. 44 Rose: Midas and Silenus']</td>\n",
              "      <td>&lt;jats:sec&gt;&lt;jats:title&gt;Abstract&lt;/jats:title&gt;&lt;ja...</td>\n",
              "      <td>['Classics', 'Linguistics and Language', 'Arch...</td>\n",
              "    </tr>\n",
              "    <tr>\n",
              "      <th>1469.0</th>\n",
              "      <td>10.1163/1568525043083532</td>\n",
              "      <td>[\"Loca Loquuntur. Lucretius' Explanation of th...</td>\n",
              "      <td>&lt;jats:sec&gt;&lt;jats:title&gt;Abstract&lt;/jats:title&gt;&lt;ja...</td>\n",
              "      <td>['Classics', 'Linguistics and Language', 'Arch...</td>\n",
              "    </tr>\n",
              "    <tr>\n",
              "      <th>1470.0</th>\n",
              "      <td>10.1163/1568525043083541</td>\n",
              "      <td>['Poverty and Demography: The Case of the Grac...</td>\n",
              "      <td>&lt;jats:sec&gt;&lt;jats:title&gt;Abstract&lt;/jats:title&gt;&lt;ja...</td>\n",
              "      <td>['Classics', 'Linguistics and Language', 'Arch...</td>\n",
              "    </tr>\n",
              "    <tr>\n",
              "      <th>1471.0</th>\n",
              "      <td>10.1163/1568525043083514</td>\n",
              "      <td>['Old Persian in Athens Revisited (Ar. Ach. 10...</td>\n",
              "      <td>&lt;jats:sec&gt;&lt;jats:title&gt;Abstract&lt;/jats:title&gt;&lt;ja...</td>\n",
              "      <td>['Classics', 'Linguistics and Language', 'Arch...</td>\n",
              "    </tr>\n",
              "  </tbody>\n",
              "</table>\n",
              "</div>"
            ],
            "text/plain": [
              "                             DOI  ...                                            subject\n",
              "NaN                          DOI  ...                                            subject\n",
              "1468.0  10.1163/1568525043083505  ...  ['Classics', 'Linguistics and Language', 'Arch...\n",
              "1469.0  10.1163/1568525043083532  ...  ['Classics', 'Linguistics and Language', 'Arch...\n",
              "1470.0  10.1163/1568525043083541  ...  ['Classics', 'Linguistics and Language', 'Arch...\n",
              "1471.0  10.1163/1568525043083514  ...  ['Classics', 'Linguistics and Language', 'Arch...\n",
              "\n",
              "[5 rows x 4 columns]"
            ]
          },
          "metadata": {
            "tags": []
          },
          "execution_count": 5
        }
      ]
    },
    {
      "cell_type": "code",
      "metadata": {
        "id": "56tyuiRTvo2u",
        "colab_type": "code",
        "outputId": "3db82548-7bc4-4f01-e518-34afe8644ffe",
        "colab": {
          "base_uri": "https://localhost:8080/",
          "height": 34
        }
      },
      "source": [
        "df.shape"
      ],
      "execution_count": 0,
      "outputs": [
        {
          "output_type": "execute_result",
          "data": {
            "text/plain": [
              "(2345239, 4)"
            ]
          },
          "metadata": {
            "tags": []
          },
          "execution_count": 8
        }
      ]
    },
    {
      "cell_type": "code",
      "metadata": {
        "id": "o5d8MMVuvzrU",
        "colab_type": "code",
        "colab": {}
      },
      "source": [
        "df = df.iloc[1:]"
      ],
      "execution_count": 0,
      "outputs": []
    },
    {
      "cell_type": "code",
      "metadata": {
        "id": "-QhJutH51PKO",
        "colab_type": "code",
        "colab": {}
      },
      "source": [
        "df.drop_duplicates(keep=False, ignore_index=True, inplace=True)"
      ],
      "execution_count": 0,
      "outputs": []
    },
    {
      "cell_type": "code",
      "metadata": {
        "id": "-_o-fWcFyTkO",
        "colab_type": "code",
        "outputId": "55683764-9030-44a6-dd3b-b756358aefc6",
        "colab": {
          "base_uri": "https://localhost:8080/",
          "height": 279
        }
      },
      "source": [
        "df.head()"
      ],
      "execution_count": 0,
      "outputs": [
        {
          "output_type": "execute_result",
          "data": {
            "text/html": [
              "<div>\n",
              "<style scoped>\n",
              "    .dataframe tbody tr th:only-of-type {\n",
              "        vertical-align: middle;\n",
              "    }\n",
              "\n",
              "    .dataframe tbody tr th {\n",
              "        vertical-align: top;\n",
              "    }\n",
              "\n",
              "    .dataframe thead th {\n",
              "        text-align: right;\n",
              "    }\n",
              "</style>\n",
              "<table border=\"1\" class=\"dataframe\">\n",
              "  <thead>\n",
              "    <tr style=\"text-align: right;\">\n",
              "      <th></th>\n",
              "      <th>DOI</th>\n",
              "      <th>title</th>\n",
              "      <th>abstract</th>\n",
              "      <th>subject</th>\n",
              "    </tr>\n",
              "  </thead>\n",
              "  <tbody>\n",
              "    <tr>\n",
              "      <th>0</th>\n",
              "      <td>10.1163/1568525043083505</td>\n",
              "      <td>['Aristotle FR. 44 Rose: Midas and Silenus']</td>\n",
              "      <td>&lt;jats:sec&gt;&lt;jats:title&gt;Abstract&lt;/jats:title&gt;&lt;ja...</td>\n",
              "      <td>['Classics', 'Linguistics and Language', 'Arch...</td>\n",
              "    </tr>\n",
              "    <tr>\n",
              "      <th>1</th>\n",
              "      <td>10.1163/1568525043083532</td>\n",
              "      <td>[\"Loca Loquuntur. Lucretius' Explanation of th...</td>\n",
              "      <td>&lt;jats:sec&gt;&lt;jats:title&gt;Abstract&lt;/jats:title&gt;&lt;ja...</td>\n",
              "      <td>['Classics', 'Linguistics and Language', 'Arch...</td>\n",
              "    </tr>\n",
              "    <tr>\n",
              "      <th>2</th>\n",
              "      <td>10.1163/1568525043083541</td>\n",
              "      <td>['Poverty and Demography: The Case of the Grac...</td>\n",
              "      <td>&lt;jats:sec&gt;&lt;jats:title&gt;Abstract&lt;/jats:title&gt;&lt;ja...</td>\n",
              "      <td>['Classics', 'Linguistics and Language', 'Arch...</td>\n",
              "    </tr>\n",
              "    <tr>\n",
              "      <th>3</th>\n",
              "      <td>10.1163/1568525043083514</td>\n",
              "      <td>['Old Persian in Athens Revisited (Ar. Ach. 10...</td>\n",
              "      <td>&lt;jats:sec&gt;&lt;jats:title&gt;Abstract&lt;/jats:title&gt;&lt;ja...</td>\n",
              "      <td>['Classics', 'Linguistics and Language', 'Arch...</td>\n",
              "    </tr>\n",
              "    <tr>\n",
              "      <th>4</th>\n",
              "      <td>10.1163/1568527053083412</td>\n",
              "      <td>['Religion and Violence: What can Sociology Of...</td>\n",
              "      <td>&lt;jats:sec&gt;&lt;jats:title&gt;Abstract&lt;/jats:title&gt;&lt;ja...</td>\n",
              "      <td>['Religious studies', 'History']</td>\n",
              "    </tr>\n",
              "  </tbody>\n",
              "</table>\n",
              "</div>"
            ],
            "text/plain": [
              "                        DOI  ...                                            subject\n",
              "0  10.1163/1568525043083505  ...  ['Classics', 'Linguistics and Language', 'Arch...\n",
              "1  10.1163/1568525043083532  ...  ['Classics', 'Linguistics and Language', 'Arch...\n",
              "2  10.1163/1568525043083541  ...  ['Classics', 'Linguistics and Language', 'Arch...\n",
              "3  10.1163/1568525043083514  ...  ['Classics', 'Linguistics and Language', 'Arch...\n",
              "4  10.1163/1568527053083412  ...                   ['Religious studies', 'History']\n",
              "\n",
              "[5 rows x 4 columns]"
            ]
          },
          "metadata": {
            "tags": []
          },
          "execution_count": 5
        }
      ]
    },
    {
      "cell_type": "code",
      "metadata": {
        "id": "jbCALWJLGFfP",
        "colab_type": "code",
        "colab": {}
      },
      "source": [
        "df.to_csv('/content/drive/My Drive/coursepaper2020/has_subject_prettier.csv')"
      ],
      "execution_count": 0,
      "outputs": []
    },
    {
      "cell_type": "code",
      "metadata": {
        "id": "XexxcnKv1ndz",
        "colab_type": "code",
        "colab": {}
      },
      "source": [
        "subj2field = pd.read_csv('subj2field.csv')"
      ],
      "execution_count": 0,
      "outputs": []
    },
    {
      "cell_type": "code",
      "metadata": {
        "id": "7VVyeMf44mEB",
        "colab_type": "code",
        "outputId": "ca6795a6-f194-4fdc-e6cd-e59688af3fbd",
        "colab": {
          "base_uri": "https://localhost:8080/",
          "height": 195
        }
      },
      "source": [
        "subj2field.head()"
      ],
      "execution_count": 0,
      "outputs": [
        {
          "output_type": "execute_result",
          "data": {
            "text/html": [
              "<div>\n",
              "<style scoped>\n",
              "    .dataframe tbody tr th:only-of-type {\n",
              "        vertical-align: middle;\n",
              "    }\n",
              "\n",
              "    .dataframe tbody tr th {\n",
              "        vertical-align: top;\n",
              "    }\n",
              "\n",
              "    .dataframe thead th {\n",
              "        text-align: right;\n",
              "    }\n",
              "</style>\n",
              "<table border=\"1\" class=\"dataframe\">\n",
              "  <thead>\n",
              "    <tr style=\"text-align: right;\">\n",
              "      <th></th>\n",
              "      <th>Subject</th>\n",
              "      <th>Field</th>\n",
              "      <th>Hyperfield</th>\n",
              "    </tr>\n",
              "  </thead>\n",
              "  <tbody>\n",
              "    <tr>\n",
              "      <th>0</th>\n",
              "      <td>Accounting</td>\n",
              "      <td>Business</td>\n",
              "      <td>Business</td>\n",
              "    </tr>\n",
              "    <tr>\n",
              "      <th>1</th>\n",
              "      <td>Acoustics and Ultrasonics</td>\n",
              "      <td>Physics</td>\n",
              "      <td>Formal</td>\n",
              "    </tr>\n",
              "    <tr>\n",
              "      <th>2</th>\n",
              "      <td>Advanced and Specialised Nursing</td>\n",
              "      <td>Medicine</td>\n",
              "      <td>Natural</td>\n",
              "    </tr>\n",
              "    <tr>\n",
              "      <th>3</th>\n",
              "      <td>Aerospace Engineering</td>\n",
              "      <td>Physics</td>\n",
              "      <td>Formal</td>\n",
              "    </tr>\n",
              "    <tr>\n",
              "      <th>4</th>\n",
              "      <td>Ageing</td>\n",
              "      <td>Biology</td>\n",
              "      <td>Natural</td>\n",
              "    </tr>\n",
              "  </tbody>\n",
              "</table>\n",
              "</div>"
            ],
            "text/plain": [
              "                            Subject     Field Hyperfield\n",
              "0                        Accounting  Business   Business\n",
              "1         Acoustics and Ultrasonics   Physics     Formal\n",
              "2  Advanced and Specialised Nursing  Medicine    Natural\n",
              "3             Aerospace Engineering   Physics     Formal\n",
              "4                            Ageing   Biology    Natural"
            ]
          },
          "metadata": {
            "tags": []
          },
          "execution_count": 49
        }
      ]
    },
    {
      "cell_type": "code",
      "metadata": {
        "id": "uUwFazjz5Ofg",
        "colab_type": "code",
        "colab": {}
      },
      "source": [
        "subj2field = subj2field.to_dict('records')"
      ],
      "execution_count": 0,
      "outputs": []
    },
    {
      "cell_type": "code",
      "metadata": {
        "id": "mRkBhzFIztcB",
        "colab_type": "code",
        "colab": {}
      },
      "source": [
        "subj2field = {d['Subject']: d['Field'] for d in subj2field}"
      ],
      "execution_count": 0,
      "outputs": []
    },
    {
      "cell_type": "code",
      "metadata": {
        "id": "HRvY-ByK4n4t",
        "colab_type": "code",
        "colab": {}
      },
      "source": [
        "from collections import Counter\n",
        "\n",
        "def get_field(subj_list):\n",
        "  global subj2field\n",
        "  fields = []\n",
        "  for subj in subj_list:\n",
        "    try:\n",
        "      fields.append(subj2field[subj.strip()])\n",
        "    except KeyError:\n",
        "      try:\n",
        "        fields.append(subj2field[subj.split(',')[0]])\n",
        "      except KeyError:\n",
        "        try:\n",
        "          fields.append(subj2field[subj.replace(', ', ' ')])\n",
        "        except KeyError:\n",
        "          print(f'{subj} not in subj2field')\n",
        "  most_common = Counter(fields).most_common()[0][0]\n",
        "  return most_common"
      ],
      "execution_count": 0,
      "outputs": []
    },
    {
      "cell_type": "code",
      "metadata": {
        "id": "aSiinRlW6vnM",
        "colab_type": "code",
        "outputId": "b367672f-bbee-4f00-e85e-b49065ba8d12",
        "colab": {
          "base_uri": "https://localhost:8080/",
          "height": 34
        }
      },
      "source": [
        "get_field(['Accounting', 'Acoustics and Ultrasonics', 'Aerospace Engineering'])"
      ],
      "execution_count": 0,
      "outputs": [
        {
          "output_type": "execute_result",
          "data": {
            "text/plain": [
              "'Physics'"
            ]
          },
          "metadata": {
            "tags": []
          },
          "execution_count": 46
        }
      ]
    },
    {
      "cell_type": "code",
      "metadata": {
        "id": "43y-Iji5f8Jv",
        "colab_type": "code",
        "outputId": "58998019-3996-4da9-8b76-7b0c0276aa45",
        "colab": {
          "base_uri": "https://localhost:8080/",
          "height": 119,
          "referenced_widgets": [
            "3e94b9ddd2f1403b831b3a8eb6f9722c",
            "72e4f8b7044f4286b987c21db5991b95",
            "c09f02e1f5d447b985b33ad9644fa263",
            "7976c833f7e14477a5363580a84af9eb",
            "f8d607e5bc8b40babedd79e38dfc1a11",
            "d4c197ff8c214dc38baebff65e9403b4",
            "5fe13bfae7f2418fb26d41b5fc79adf8",
            "f02b153c084e4fee82e455c22e2bc04b"
          ]
        }
      },
      "source": [
        "from tqdm import tqdm_notebook\n",
        "\n",
        "with open('fields.txt', 'w', encoding='utf-8') as f:\n",
        "  for _, row in tqdm_notebook(df.iterrows()):\n",
        "    if not isinstance(row['subject'], list):\n",
        "      row['subject'] = eval(row['subject'])\n",
        "    print(row['DOI'], get_field(row['subject']),\n",
        "          sep=',', file=f)"
      ],
      "execution_count": 0,
      "outputs": [
        {
          "output_type": "stream",
          "text": [
            "/usr/local/lib/python3.6/dist-packages/ipykernel_launcher.py:4: TqdmDeprecationWarning: This function will be removed in tqdm==5.0.0\n",
            "Please use `tqdm.notebook.tqdm` instead of `tqdm.tqdm_notebook`\n",
            "  after removing the cwd from sys.path.\n"
          ],
          "name": "stderr"
        },
        {
          "output_type": "display_data",
          "data": {
            "application/vnd.jupyter.widget-view+json": {
              "model_id": "3e94b9ddd2f1403b831b3a8eb6f9722c",
              "version_minor": 0,
              "version_major": 2
            },
            "text/plain": [
              "HBox(children=(FloatProgress(value=1.0, bar_style='info', max=1.0), HTML(value='')))"
            ]
          },
          "metadata": {
            "tags": []
          }
        },
        {
          "output_type": "stream",
          "text": [
            "\n"
          ],
          "name": "stdout"
        }
      ]
    },
    {
      "cell_type": "code",
      "metadata": {
        "id": "MCs3QiRrwZYC",
        "colab_type": "code",
        "colab": {}
      },
      "source": [
        "fields = pd.read_csv('/content/drive/My Drive/coursepaper2020/fields.csv', names=['DOI', 'field'])"
      ],
      "execution_count": 0,
      "outputs": []
    },
    {
      "cell_type": "code",
      "metadata": {
        "id": "0E_ucFaowdk7",
        "colab_type": "code",
        "outputId": "09c2a138-4b46-4964-b522-bdab9e6117f0",
        "colab": {
          "base_uri": "https://localhost:8080/",
          "height": 195
        }
      },
      "source": [
        "fields.head()"
      ],
      "execution_count": 0,
      "outputs": [
        {
          "output_type": "execute_result",
          "data": {
            "text/html": [
              "<div>\n",
              "<style scoped>\n",
              "    .dataframe tbody tr th:only-of-type {\n",
              "        vertical-align: middle;\n",
              "    }\n",
              "\n",
              "    .dataframe tbody tr th {\n",
              "        vertical-align: top;\n",
              "    }\n",
              "\n",
              "    .dataframe thead th {\n",
              "        text-align: right;\n",
              "    }\n",
              "</style>\n",
              "<table border=\"1\" class=\"dataframe\">\n",
              "  <thead>\n",
              "    <tr style=\"text-align: right;\">\n",
              "      <th></th>\n",
              "      <th>DOI</th>\n",
              "      <th>field</th>\n",
              "    </tr>\n",
              "  </thead>\n",
              "  <tbody>\n",
              "    <tr>\n",
              "      <th>0</th>\n",
              "      <td>10.1163/1568525043083505</td>\n",
              "      <td>Humanities</td>\n",
              "    </tr>\n",
              "    <tr>\n",
              "      <th>1</th>\n",
              "      <td>10.1163/1568525043083532</td>\n",
              "      <td>Humanities</td>\n",
              "    </tr>\n",
              "    <tr>\n",
              "      <th>2</th>\n",
              "      <td>10.1163/1568525043083541</td>\n",
              "      <td>Humanities</td>\n",
              "    </tr>\n",
              "    <tr>\n",
              "      <th>3</th>\n",
              "      <td>10.1163/1568525043083514</td>\n",
              "      <td>Humanities</td>\n",
              "    </tr>\n",
              "    <tr>\n",
              "      <th>4</th>\n",
              "      <td>10.1163/1568527053083412</td>\n",
              "      <td>Humanities</td>\n",
              "    </tr>\n",
              "  </tbody>\n",
              "</table>\n",
              "</div>"
            ],
            "text/plain": [
              "                        DOI       field\n",
              "0  10.1163/1568525043083505  Humanities\n",
              "1  10.1163/1568525043083532  Humanities\n",
              "2  10.1163/1568525043083541  Humanities\n",
              "3  10.1163/1568525043083514  Humanities\n",
              "4  10.1163/1568527053083412  Humanities"
            ]
          },
          "metadata": {
            "tags": []
          },
          "execution_count": 16
        }
      ]
    },
    {
      "cell_type": "code",
      "metadata": {
        "id": "xI53nNDVwoly",
        "colab_type": "code",
        "colab": {}
      },
      "source": [
        "df = pd.merge(df, fields, on='DOI')"
      ],
      "execution_count": 0,
      "outputs": []
    },
    {
      "cell_type": "code",
      "metadata": {
        "id": "KHlS0iFgxWKY",
        "colab_type": "code",
        "outputId": "19433ce6-9c63-4c9e-a6c7-a9ae95c618ce",
        "colab": {
          "base_uri": "https://localhost:8080/",
          "height": 279
        }
      },
      "source": [
        "df.head()"
      ],
      "execution_count": 0,
      "outputs": [
        {
          "output_type": "execute_result",
          "data": {
            "text/html": [
              "<div>\n",
              "<style scoped>\n",
              "    .dataframe tbody tr th:only-of-type {\n",
              "        vertical-align: middle;\n",
              "    }\n",
              "\n",
              "    .dataframe tbody tr th {\n",
              "        vertical-align: top;\n",
              "    }\n",
              "\n",
              "    .dataframe thead th {\n",
              "        text-align: right;\n",
              "    }\n",
              "</style>\n",
              "<table border=\"1\" class=\"dataframe\">\n",
              "  <thead>\n",
              "    <tr style=\"text-align: right;\">\n",
              "      <th></th>\n",
              "      <th>DOI</th>\n",
              "      <th>title</th>\n",
              "      <th>abstract</th>\n",
              "      <th>subject</th>\n",
              "      <th>field</th>\n",
              "    </tr>\n",
              "  </thead>\n",
              "  <tbody>\n",
              "    <tr>\n",
              "      <th>0</th>\n",
              "      <td>10.1163/1568525043083505</td>\n",
              "      <td>['Aristotle FR. 44 Rose: Midas and Silenus']</td>\n",
              "      <td>&lt;jats:sec&gt;&lt;jats:title&gt;Abstract&lt;/jats:title&gt;&lt;ja...</td>\n",
              "      <td>['Classics', 'Linguistics and Language', 'Arch...</td>\n",
              "      <td>Humanities</td>\n",
              "    </tr>\n",
              "    <tr>\n",
              "      <th>1</th>\n",
              "      <td>10.1163/1568525043083532</td>\n",
              "      <td>[\"Loca Loquuntur. Lucretius' Explanation of th...</td>\n",
              "      <td>&lt;jats:sec&gt;&lt;jats:title&gt;Abstract&lt;/jats:title&gt;&lt;ja...</td>\n",
              "      <td>['Classics', 'Linguistics and Language', 'Arch...</td>\n",
              "      <td>Humanities</td>\n",
              "    </tr>\n",
              "    <tr>\n",
              "      <th>2</th>\n",
              "      <td>10.1163/1568525043083541</td>\n",
              "      <td>['Poverty and Demography: The Case of the Grac...</td>\n",
              "      <td>&lt;jats:sec&gt;&lt;jats:title&gt;Abstract&lt;/jats:title&gt;&lt;ja...</td>\n",
              "      <td>['Classics', 'Linguistics and Language', 'Arch...</td>\n",
              "      <td>Humanities</td>\n",
              "    </tr>\n",
              "    <tr>\n",
              "      <th>3</th>\n",
              "      <td>10.1163/1568525043083514</td>\n",
              "      <td>['Old Persian in Athens Revisited (Ar. Ach. 10...</td>\n",
              "      <td>&lt;jats:sec&gt;&lt;jats:title&gt;Abstract&lt;/jats:title&gt;&lt;ja...</td>\n",
              "      <td>['Classics', 'Linguistics and Language', 'Arch...</td>\n",
              "      <td>Humanities</td>\n",
              "    </tr>\n",
              "    <tr>\n",
              "      <th>4</th>\n",
              "      <td>10.1163/1568527053083412</td>\n",
              "      <td>['Religion and Violence: What can Sociology Of...</td>\n",
              "      <td>&lt;jats:sec&gt;&lt;jats:title&gt;Abstract&lt;/jats:title&gt;&lt;ja...</td>\n",
              "      <td>['Religious studies', 'History']</td>\n",
              "      <td>Humanities</td>\n",
              "    </tr>\n",
              "  </tbody>\n",
              "</table>\n",
              "</div>"
            ],
            "text/plain": [
              "                        DOI  ...       field\n",
              "0  10.1163/1568525043083505  ...  Humanities\n",
              "1  10.1163/1568525043083532  ...  Humanities\n",
              "2  10.1163/1568525043083541  ...  Humanities\n",
              "3  10.1163/1568525043083514  ...  Humanities\n",
              "4  10.1163/1568527053083412  ...  Humanities\n",
              "\n",
              "[5 rows x 5 columns]"
            ]
          },
          "metadata": {
            "tags": []
          },
          "execution_count": 19
        }
      ]
    },
    {
      "cell_type": "code",
      "metadata": {
        "id": "dhBUXnI8xZyd",
        "colab_type": "code",
        "colab": {}
      },
      "source": [
        "import re\n",
        " \n",
        "def preprocess_text(text):\n",
        "  prepr = text.lower()\n",
        "  prepr = re.sub(r'<.+?>', ' ', prepr)\n",
        "  prepr = re.sub(r'[^a-z0-9]', ' ', prepr)\n",
        "  prepr = re.sub(r'[\\s\\r\\n]{2,}', ' ', prepr).strip()\n",
        "  return prepr"
      ],
      "execution_count": 0,
      "outputs": []
    },
    {
      "cell_type": "code",
      "metadata": {
        "id": "9Qrpl2PxywPs",
        "colab_type": "code",
        "outputId": "1cb43c59-2803-4042-d3d0-24ba41704229",
        "colab": {
          "base_uri": "https://localhost:8080/",
          "height": 54
        }
      },
      "source": [
        "df.abstract[0]"
      ],
      "execution_count": 0,
      "outputs": [
        {
          "output_type": "execute_result",
          "data": {
            "text/plain": [
              "\"<jats:sec><jats:title>Abstract</jats:title><jats:p>Scholars have identified two supposedly separate folk-tale patterns: (a) the questing hero's initial encounter with an ambivalent helper figure; (b) the capture of a demonic figure from whom crucial information is extracted. This article establishes that (a) and (b) are identical aspects of one and the same pattern and that the story of Midas' encounter with Silenus exemplifies this pattern. Two Appendixes show how Silenus resembles that primeval and widely disseminated figure the Wild Man; and that the folk-tale sequence whereby one helper sends on the hero to another helper (or helpers) lurks beneath the surface of several stories that exemplify the relevant pattern.</jats:p>\\n         </jats:sec>\""
            ]
          },
          "metadata": {
            "tags": []
          },
          "execution_count": 7
        }
      ]
    },
    {
      "cell_type": "code",
      "metadata": {
        "id": "UPHynEQiyydA",
        "colab_type": "code",
        "outputId": "e7d7b7b1-a60d-4096-b981-53fc5a0a701d",
        "colab": {
          "base_uri": "https://localhost:8080/",
          "height": 54
        }
      },
      "source": [
        "preprocess_text(df.abstract[0])"
      ],
      "execution_count": 0,
      "outputs": [
        {
          "output_type": "execute_result",
          "data": {
            "text/plain": [
              "'abstract scholars have identified two supposedly separate folk tale patterns a the questing hero s initial encounter with an ambivalent helper figure b the capture of a demonic figure from whom crucial information is extracted this article establishes that a and b are identical aspects of one and the same pattern and that the story of midas encounter with silenus exemplifies this pattern two appendixes show how silenus resembles that primeval and widely disseminated figure the wild man and that the folk tale sequence whereby one helper sends on the hero to another helper or helpers lurks beneath the surface of several stories that exemplify the relevant pattern'"
            ]
          },
          "metadata": {
            "tags": []
          },
          "execution_count": 5
        }
      ]
    },
    {
      "cell_type": "code",
      "metadata": {
        "id": "PMTTzdt_anDl",
        "colab_type": "code",
        "outputId": "1a83caef-ef8d-400d-a10e-8b056b17b869",
        "colab": {
          "base_uri": "https://localhost:8080/",
          "height": 34
        }
      },
      "source": [
        "df.shape"
      ],
      "execution_count": 0,
      "outputs": [
        {
          "output_type": "execute_result",
          "data": {
            "text/plain": [
              "(2307763, 5)"
            ]
          },
          "metadata": {
            "tags": []
          },
          "execution_count": 4
        }
      ]
    },
    {
      "cell_type": "code",
      "metadata": {
        "id": "NnGbjfi6y09H",
        "colab_type": "code",
        "outputId": "e87138a5-ed71-401d-c192-3da53416ffc3",
        "colab": {
          "base_uri": "https://localhost:8080/",
          "height": 194,
          "referenced_widgets": [
            "f37f45f3ba5f4b82bdae09d015992145",
            "16c7a3bb39524473b8ef53ff2c9be48c",
            "4255979fec4240d58c5664f578032f7d",
            "721c3f1be4944d778a2eebcb4325d604",
            "f0baa8d9a9f64d269cacddc114b75953",
            "8236bb172afb4936abeb205ccd9483b1",
            "be8a2b691e0f442c8b159315d5f603d5",
            "73b295d2c18b42f2ada8b5598b254ac3"
          ]
        }
      },
      "source": [
        "from tqdm import tqdm_notebook\n",
        " \n",
        "with open('/content/drive/My Drive/coursepaper2020/prepr_texts.csv', 'w', encoding='utf-8') as f:\n",
        "  print('DOI,prepr_title,prepr_abstract', file=f)\n",
        " \n",
        "  for _, row in tqdm_notebook(df.iterrows(), total=df.shape[0]):\n",
        "    if not isinstance(row['title'], list):\n",
        "      row['title'] = eval(row['title'])\n",
        "    \n",
        "    if isinstance(row['title'], list):\n",
        "      row['title'] = row['title'][0]\n",
        " \n",
        "    print(row['DOI'], preprocess_text(row['title']), preprocess_text(row['abstract']),\n",
        "          sep=',', file=f)"
      ],
      "execution_count": 0,
      "outputs": [
        {
          "output_type": "stream",
          "text": [
            "/usr/local/lib/python3.6/dist-packages/ipykernel_launcher.py:6: TqdmDeprecationWarning: This function will be removed in tqdm==5.0.0\n",
            "Please use `tqdm.notebook.tqdm` instead of `tqdm.tqdm_notebook`\n",
            "  \n"
          ],
          "name": "stderr"
        },
        {
          "output_type": "display_data",
          "data": {
            "application/vnd.jupyter.widget-view+json": {
              "model_id": "f37f45f3ba5f4b82bdae09d015992145",
              "version_minor": 0,
              "version_major": 2
            },
            "text/plain": [
              "HBox(children=(FloatProgress(value=0.0, max=2307763.0), HTML(value='')))"
            ]
          },
          "metadata": {
            "tags": []
          }
        },
        {
          "output_type": "stream",
          "text": [
            "\n"
          ],
          "name": "stdout"
        }
      ]
    },
    {
      "cell_type": "code",
      "metadata": {
        "id": "tceN5aqAX9rx",
        "colab_type": "code",
        "outputId": "546db2c2-7bce-4fde-f189-ae8b28eff6cb",
        "colab": {
          "base_uri": "https://localhost:8080/",
          "height": 54
        }
      },
      "source": [
        "row['abstract']"
      ],
      "execution_count": 0,
      "outputs": [
        {
          "output_type": "execute_result",
          "data": {
            "text/plain": [
              "'<jats:sec>\\n<jats:title>:</jats:title>\\n<jats:p>Drug nanocrystals offer an attractive approach for improving the solubility and dissolution rate of poorly soluble drugs which\\naccounts for nearly 40 % newly discovered drug molecules. Both methods for manufacturing drug nanocrystals have high industrial\\nacceptability for being simple and easy to scale which is evident from the number of approved products available in the market. Ability to\\nmodify multiple aspects of dosage form like bioavailability, release pattern and dosage form requirement along with flexibility in choosing final\\ndosage form starting from the tablet, capsule, suspension to parenteral one, have made nanocrystal technology one of the very promising and\\nadaptable technology for dosage form design.</jats:p>\\n</jats:sec>'"
            ]
          },
          "metadata": {
            "tags": []
          },
          "execution_count": 5
        }
      ]
    }
  ]
}