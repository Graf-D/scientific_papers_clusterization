{
  "nbformat": 4,
  "nbformat_minor": 0,
  "metadata": {
    "colab": {
      "name": "fucktheseabstracts.ipynb",
      "provenance": [],
      "collapsed_sections": []
    },
    "kernelspec": {
      "name": "python3",
      "display_name": "Python 3"
    }
  },
  "cells": [
    {
      "cell_type": "code",
      "metadata": {
        "id": "qfCZZk3ghWMD",
        "colab_type": "code",
        "outputId": "71c87bc8-dd3b-4455-901c-d3be050f5670",
        "colab": {
          "base_uri": "https://localhost:8080/",
          "height": 371
        }
      },
      "source": [
        "! pip install hdbscan"
      ],
      "execution_count": 0,
      "outputs": [
        {
          "output_type": "stream",
          "text": [
            "Collecting hdbscan\n",
            "\u001b[?25l  Downloading https://files.pythonhosted.org/packages/22/2f/2423d844072f007a74214c1adc46260e45f034bb1679ccadfbb8a601f647/hdbscan-0.8.26.tar.gz (4.7MB)\n",
            "\u001b[K     |████████████████████████████████| 4.7MB 2.8MB/s \n",
            "\u001b[?25h  Installing build dependencies ... \u001b[?25l\u001b[?25hdone\n",
            "  Getting requirements to build wheel ... \u001b[?25l\u001b[?25hdone\n",
            "    Preparing wheel metadata ... \u001b[?25l\u001b[?25hdone\n",
            "Requirement already satisfied: joblib in /usr/local/lib/python3.6/dist-packages (from hdbscan) (0.15.1)\n",
            "Requirement already satisfied: scipy>=0.9 in /usr/local/lib/python3.6/dist-packages (from hdbscan) (1.4.1)\n",
            "Requirement already satisfied: cython>=0.27 in /usr/local/lib/python3.6/dist-packages (from hdbscan) (0.29.18)\n",
            "Requirement already satisfied: six in /usr/local/lib/python3.6/dist-packages (from hdbscan) (1.12.0)\n",
            "Requirement already satisfied: scikit-learn>=0.17 in /usr/local/lib/python3.6/dist-packages (from hdbscan) (0.22.2.post1)\n",
            "Requirement already satisfied: numpy>=1.16.0 in /usr/local/lib/python3.6/dist-packages (from hdbscan) (1.18.4)\n",
            "Building wheels for collected packages: hdbscan\n",
            "  Building wheel for hdbscan (PEP 517) ... \u001b[?25l\u001b[?25hdone\n",
            "  Created wheel for hdbscan: filename=hdbscan-0.8.26-cp36-cp36m-linux_x86_64.whl size=2308907 sha256=8c150d8aed8be041deb17ff284540a606759a74473adabdbf85e6e511ea54cfd\n",
            "  Stored in directory: /root/.cache/pip/wheels/82/38/41/372f034d8abd271ef7787a681e0a47fc05d472683a7eb088ed\n",
            "Successfully built hdbscan\n",
            "Installing collected packages: hdbscan\n",
            "Successfully installed hdbscan-0.8.26\n"
          ],
          "name": "stdout"
        }
      ]
    },
    {
      "cell_type": "code",
      "metadata": {
        "id": "QFE4ToOjhVmN",
        "colab_type": "code",
        "colab": {}
      },
      "source": [
        "import hdbscan"
      ],
      "execution_count": 0,
      "outputs": []
    },
    {
      "cell_type": "code",
      "metadata": {
        "id": "FAfxhCzihbbj",
        "colab_type": "code",
        "outputId": "70b02b15-eb51-476c-fcf9-576122299f32",
        "colab": {
          "base_uri": "https://localhost:8080/",
          "height": 72
        }
      },
      "source": [
        "import numpy as np\n",
        "import pandas as pd\n",
        "import matplotlib.pyplot as plt\n",
        "import seaborn as sns"
      ],
      "execution_count": 1,
      "outputs": [
        {
          "output_type": "stream",
          "text": [
            "/usr/local/lib/python3.6/dist-packages/statsmodels/tools/_testing.py:19: FutureWarning: pandas.util.testing is deprecated. Use the functions in the public API at pandas.testing instead.\n",
            "  import pandas.util.testing as tm\n"
          ],
          "name": "stderr"
        }
      ]
    },
    {
      "cell_type": "code",
      "metadata": {
        "id": "5YEvMO6tpv0E",
        "colab_type": "code",
        "colab": {}
      },
      "source": [
        "from scipy.sparse import load_npz\n",
        "\n",
        "features = load_npz('/content/features_3cat_geo.npz')"
      ],
      "execution_count": 0,
      "outputs": []
    },
    {
      "cell_type": "code",
      "metadata": {
        "id": "STySO7-SbUFY",
        "colab_type": "code",
        "colab": {}
      },
      "source": [
        "labels = np.load('labels_3cat_geo.npy', allow_pickle=True)"
      ],
      "execution_count": 0,
      "outputs": []
    },
    {
      "cell_type": "code",
      "metadata": {
        "id": "WU6X_O42SBDj",
        "colab_type": "code",
        "outputId": "55f12208-6ac7-4d1d-f7a0-13925c1014df",
        "colab": {
          "base_uri": "https://localhost:8080/",
          "height": 34
        }
      },
      "source": [
        "features.shape, labels.shape"
      ],
      "execution_count": 4,
      "outputs": [
        {
          "output_type": "execute_result",
          "data": {
            "text/plain": [
              "((1480, 160444), (1480,))"
            ]
          },
          "metadata": {
            "tags": []
          },
          "execution_count": 4
        }
      ]
    },
    {
      "cell_type": "code",
      "metadata": {
        "id": "6nBAhqLbRsMq",
        "colab_type": "code",
        "colab": {}
      },
      "source": [
        "from sklearn.discriminant_analysis import LinearDiscriminantAnalysis as LDA"
      ],
      "execution_count": 0,
      "outputs": []
    },
    {
      "cell_type": "code",
      "metadata": {
        "id": "FHBnKLtenDpN",
        "colab_type": "code",
        "colab": {}
      },
      "source": [
        "lda = LDA(n_components=2)"
      ],
      "execution_count": 0,
      "outputs": []
    },
    {
      "cell_type": "code",
      "metadata": {
        "id": "3BKWKKXinO1H",
        "colab_type": "code",
        "colab": {}
      },
      "source": [
        "from sklearn.model_selection import train_test_split\n",
        "\n",
        "X_train, X_test, y_train, y_test = train_test_split(features, labels, train_size=.9, test_size=.1,\n",
        "                                                    random_state=1337, stratify=labels)\n",
        "\n",
        "pos = lda.fit_transform(X_train.toarray(), y_train)"
      ],
      "execution_count": 0,
      "outputs": []
    },
    {
      "cell_type": "code",
      "metadata": {
        "id": "-PKvZlalXHRG",
        "colab_type": "code",
        "outputId": "15ac55fa-4e7f-4686-83ca-d074cb28cfb9",
        "colab": {
          "base_uri": "https://localhost:8080/",
          "height": 34
        }
      },
      "source": [
        "pos.shape"
      ],
      "execution_count": 0,
      "outputs": [
        {
          "output_type": "execute_result",
          "data": {
            "text/plain": [
              "(1332, 2)"
            ]
          },
          "metadata": {
            "tags": []
          },
          "execution_count": 179
        }
      ]
    },
    {
      "cell_type": "code",
      "metadata": {
        "id": "cLQ_rbpvbayX",
        "colab_type": "code",
        "colab": {}
      },
      "source": [
        "encoding = {subj: i for i, subj in enumerate(np.unique(labels))}\n",
        "labels_encoded = [encoding[label] for label in labels]"
      ],
      "execution_count": 0,
      "outputs": []
    },
    {
      "cell_type": "code",
      "metadata": {
        "id": "ejVyUZ5Ceby3",
        "colab_type": "code",
        "outputId": "1b32b421-6ab5-4344-d2a0-fcca556dda3a",
        "colab": {
          "base_uri": "https://localhost:8080/",
          "height": 238
        }
      },
      "source": [
        "color_palette = sns.color_palette('deep', np.unique(labels).shape[0])\n",
        "cluster_colors = [color_palette[x] for x in labels_encoded]\n",
        "plt.scatter(*features.T, s=50, linewidth=0, c=cluster_colors, alpha=0.5)\n",
        "plt.title('True labels')\n",
        "plt.show()"
      ],
      "execution_count": 0,
      "outputs": [
        {
          "output_type": "error",
          "ename": "TypeError",
          "evalue": "ignored",
          "traceback": [
            "\u001b[0;31m---------------------------------------------------------------------------\u001b[0m",
            "\u001b[0;31mTypeError\u001b[0m                                 Traceback (most recent call last)",
            "\u001b[0;32m<ipython-input-212-79871d93a955>\u001b[0m in \u001b[0;36m<module>\u001b[0;34m()\u001b[0m\n\u001b[1;32m      1\u001b[0m \u001b[0mcolor_palette\u001b[0m \u001b[0;34m=\u001b[0m \u001b[0msns\u001b[0m\u001b[0;34m.\u001b[0m\u001b[0mcolor_palette\u001b[0m\u001b[0;34m(\u001b[0m\u001b[0;34m'deep'\u001b[0m\u001b[0;34m,\u001b[0m \u001b[0mnp\u001b[0m\u001b[0;34m.\u001b[0m\u001b[0munique\u001b[0m\u001b[0;34m(\u001b[0m\u001b[0mlabels\u001b[0m\u001b[0;34m)\u001b[0m\u001b[0;34m.\u001b[0m\u001b[0mshape\u001b[0m\u001b[0;34m[\u001b[0m\u001b[0;36m0\u001b[0m\u001b[0;34m]\u001b[0m\u001b[0;34m)\u001b[0m\u001b[0;34m\u001b[0m\u001b[0;34m\u001b[0m\u001b[0m\n\u001b[1;32m      2\u001b[0m \u001b[0mcluster_colors\u001b[0m \u001b[0;34m=\u001b[0m \u001b[0;34m[\u001b[0m\u001b[0mcolor_palette\u001b[0m\u001b[0;34m[\u001b[0m\u001b[0mx\u001b[0m\u001b[0;34m]\u001b[0m \u001b[0;32mfor\u001b[0m \u001b[0mx\u001b[0m \u001b[0;32min\u001b[0m \u001b[0mlabels_encoded\u001b[0m\u001b[0;34m]\u001b[0m\u001b[0;34m\u001b[0m\u001b[0;34m\u001b[0m\u001b[0m\n\u001b[0;32m----> 3\u001b[0;31m \u001b[0mplt\u001b[0m\u001b[0;34m.\u001b[0m\u001b[0mscatter\u001b[0m\u001b[0;34m(\u001b[0m\u001b[0;34m*\u001b[0m\u001b[0mfeatures\u001b[0m\u001b[0;34m.\u001b[0m\u001b[0mT\u001b[0m\u001b[0;34m,\u001b[0m \u001b[0ms\u001b[0m\u001b[0;34m=\u001b[0m\u001b[0;36m50\u001b[0m\u001b[0;34m,\u001b[0m \u001b[0mlinewidth\u001b[0m\u001b[0;34m=\u001b[0m\u001b[0;36m0\u001b[0m\u001b[0;34m,\u001b[0m \u001b[0mc\u001b[0m\u001b[0;34m=\u001b[0m\u001b[0mcluster_colors\u001b[0m\u001b[0;34m,\u001b[0m \u001b[0malpha\u001b[0m\u001b[0;34m=\u001b[0m\u001b[0;36m0.5\u001b[0m\u001b[0;34m)\u001b[0m\u001b[0;34m\u001b[0m\u001b[0;34m\u001b[0m\u001b[0m\n\u001b[0m\u001b[1;32m      4\u001b[0m \u001b[0mplt\u001b[0m\u001b[0;34m.\u001b[0m\u001b[0mtitle\u001b[0m\u001b[0;34m(\u001b[0m\u001b[0;34m'True labels'\u001b[0m\u001b[0;34m)\u001b[0m\u001b[0;34m\u001b[0m\u001b[0;34m\u001b[0m\u001b[0m\n\u001b[1;32m      5\u001b[0m \u001b[0mplt\u001b[0m\u001b[0;34m.\u001b[0m\u001b[0mshow\u001b[0m\u001b[0;34m(\u001b[0m\u001b[0;34m)\u001b[0m\u001b[0;34m\u001b[0m\u001b[0;34m\u001b[0m\u001b[0m\n",
            "\u001b[0;31mTypeError\u001b[0m: scatter() got multiple values for argument 's'"
          ]
        }
      ]
    },
    {
      "cell_type": "code",
      "metadata": {
        "id": "7xw6HfABpzH5",
        "colab_type": "code",
        "colab": {}
      },
      "source": [
        "clusterer = hdbscan.HDBSCAN(min_cluster_size=15,\n",
        "                            min_samples=1).fit(features)"
      ],
      "execution_count": 0,
      "outputs": []
    },
    {
      "cell_type": "code",
      "metadata": {
        "id": "Xp1exxJ1OveS",
        "colab_type": "code",
        "outputId": "1fd75f02-e37e-4ecd-c491-6d151e2651d4",
        "colab": {
          "base_uri": "https://localhost:8080/",
          "height": 34
        }
      },
      "source": [
        "clusterer.labels_.max()"
      ],
      "execution_count": 0,
      "outputs": [
        {
          "output_type": "execute_result",
          "data": {
            "text/plain": [
              "2"
            ]
          },
          "metadata": {
            "tags": []
          },
          "execution_count": 220
        }
      ]
    },
    {
      "cell_type": "code",
      "metadata": {
        "id": "xedgY2ffjw8H",
        "colab_type": "code",
        "colab": {}
      },
      "source": [
        "clusterer.condensed_tree_.plot()"
      ],
      "execution_count": 0,
      "outputs": []
    },
    {
      "cell_type": "code",
      "metadata": {
        "id": "vdDhFNsM8OLs",
        "colab_type": "code",
        "outputId": "f4d71852-f3c7-4864-a784-4f9615efbf7a",
        "colab": {
          "base_uri": "https://localhost:8080/",
          "height": 286
        }
      },
      "source": [
        "color_palette = sns.color_palette('deep', clusterer.labels_.max() + 1)\n",
        "cluster_colors = [color_palette[x] if x >= 0\n",
        "                  else (0.5, 0.5, 0.5)\n",
        "                  for x in clusterer.labels_]\n",
        "cluster_member_colors = [sns.desaturate(x, p) for x, p in\n",
        "                         zip(cluster_colors, clusterer.probabilities_)]\n",
        "plt.scatter(*pos.T, s=50, linewidth=0, c=cluster_member_colors, alpha=0.5)"
      ],
      "execution_count": 0,
      "outputs": [
        {
          "output_type": "execute_result",
          "data": {
            "text/plain": [
              "<matplotlib.collections.PathCollection at 0x7f98fc72f160>"
            ]
          },
          "metadata": {
            "tags": []
          },
          "execution_count": 184
        },
        {
          "output_type": "display_data",
          "data": {
            "image/png": "[encoded data removed]",
            "text/plain": [
              "<Figure size 432x288 with 1 Axes>"
            ]
          },
          "metadata": {
            "tags": [],
            "needs_background": "light"
          }
        }
      ]
    },
    {
      "cell_type": "code",
      "metadata": {
        "id": "p8mKNVSOIpNd",
        "colab_type": "code",
        "colab": {}
      },
      "source": [
        "from sklearn.cluster import KMeans\n",
        "\n",
        "km = KMeans(n_clusters=np.unique(labels).shape[0], verbose=True)"
      ],
      "execution_count": 0,
      "outputs": []
    },
    {
      "cell_type": "code",
      "metadata": {
        "id": "qxLMyYhQoacc",
        "colab_type": "code",
        "outputId": "92bc3e69-e0be-41ae-e525-2d9b86c69121",
        "colab": {
          "base_uri": "https://localhost:8080/",
          "height": 1000
        }
      },
      "source": [
        "km.fit(features)"
      ],
      "execution_count": 0,
      "outputs": [
        {
          "output_type": "stream",
          "text": [
            "Initialization complete\n",
            "Iteration  0, inertia 2846.805\n",
            "Iteration  1, inertia 1437.932\n",
            "Iteration  2, inertia 1437.736\n",
            "Iteration  3, inertia 1437.646\n",
            "Iteration  4, inertia 1437.632\n",
            "Converged at iteration 4: center shift 0.000000e+00 within tolerance 6.069252e-10\n",
            "Initialization complete\n",
            "Iteration  0, inertia 2849.501\n",
            "Iteration  1, inertia 1436.715\n",
            "Iteration  2, inertia 1436.112\n",
            "Iteration  3, inertia 1435.818\n",
            "Iteration  4, inertia 1435.763\n",
            "Iteration  5, inertia 1435.744\n",
            "Iteration  6, inertia 1435.740\n",
            "Iteration  7, inertia 1435.737\n",
            "Converged at iteration 7: center shift 0.000000e+00 within tolerance 6.069252e-10\n",
            "Initialization complete\n",
            "Iteration  0, inertia 2845.157\n",
            "Iteration  1, inertia 1438.209\n",
            "Iteration  2, inertia 1437.653\n",
            "Iteration  3, inertia 1436.889\n",
            "Iteration  4, inertia 1436.322\n",
            "Iteration  5, inertia 1436.060\n",
            "Iteration  6, inertia 1435.950\n",
            "Iteration  7, inertia 1435.902\n",
            "Iteration  8, inertia 1435.891\n",
            "Iteration  9, inertia 1435.879\n",
            "Iteration 10, inertia 1435.873\n",
            "Iteration 11, inertia 1435.868\n",
            "Iteration 12, inertia 1435.861\n",
            "Iteration 13, inertia 1435.852\n",
            "Iteration 14, inertia 1435.844\n",
            "Converged at iteration 14: center shift 0.000000e+00 within tolerance 6.069252e-10\n",
            "Initialization complete\n",
            "Iteration  0, inertia 2846.247\n",
            "Iteration  1, inertia 1438.071\n",
            "Iteration  2, inertia 1437.827\n",
            "Iteration  3, inertia 1437.563\n",
            "Iteration  4, inertia 1437.250\n",
            "Iteration  5, inertia 1436.888\n",
            "Iteration  6, inertia 1436.563\n",
            "Iteration  7, inertia 1436.319\n",
            "Iteration  8, inertia 1436.182\n",
            "Iteration  9, inertia 1436.078\n",
            "Iteration 10, inertia 1436.021\n",
            "Iteration 11, inertia 1435.983\n",
            "Iteration 12, inertia 1435.967\n",
            "Iteration 13, inertia 1435.952\n",
            "Iteration 14, inertia 1435.946\n",
            "Iteration 15, inertia 1435.943\n",
            "Iteration 16, inertia 1435.940\n",
            "Converged at iteration 16: center shift 0.000000e+00 within tolerance 6.069252e-10\n",
            "Initialization complete\n",
            "Iteration  0, inertia 2845.679\n",
            "Iteration  1, inertia 1438.277\n",
            "Iteration  2, inertia 1438.232\n",
            "Iteration  3, inertia 1438.171\n",
            "Iteration  4, inertia 1438.129\n",
            "Iteration  5, inertia 1438.113\n",
            "Iteration  6, inertia 1438.103\n",
            "Iteration  7, inertia 1438.088\n",
            "Iteration  8, inertia 1438.073\n",
            "Iteration  9, inertia 1438.068\n",
            "Iteration 10, inertia 1438.053\n",
            "Converged at iteration 10: center shift 0.000000e+00 within tolerance 6.069252e-10\n",
            "Initialization complete\n",
            "Iteration  0, inertia 2833.993\n",
            "Iteration  1, inertia 1437.864\n",
            "Iteration  2, inertia 1437.639\n",
            "Iteration  3, inertia 1437.365\n",
            "Iteration  4, inertia 1437.168\n",
            "Iteration  5, inertia 1436.992\n",
            "Iteration  6, inertia 1436.779\n",
            "Iteration  7, inertia 1436.571\n",
            "Iteration  8, inertia 1436.499\n",
            "Iteration  9, inertia 1436.456\n",
            "Iteration 10, inertia 1436.436\n",
            "Iteration 11, inertia 1436.416\n",
            "Iteration 12, inertia 1436.401\n",
            "Iteration 13, inertia 1436.394\n",
            "Iteration 14, inertia 1436.390\n",
            "Iteration 15, inertia 1436.386\n",
            "Iteration 16, inertia 1436.382\n",
            "Converged at iteration 16: center shift 0.000000e+00 within tolerance 6.069252e-10\n",
            "Initialization complete\n",
            "Iteration  0, inertia 2841.610\n",
            "Iteration  1, inertia 1438.537\n",
            "Iteration  2, inertia 1438.493\n",
            "Iteration  3, inertia 1438.481\n",
            "Iteration  4, inertia 1438.474\n",
            "Iteration  5, inertia 1438.462\n",
            "Iteration  6, inertia 1438.440\n",
            "Iteration  7, inertia 1438.437\n",
            "Iteration  8, inertia 1438.431\n",
            "Iteration  9, inertia 1438.426\n",
            "Iteration 10, inertia 1438.423\n",
            "Iteration 11, inertia 1438.420\n",
            "Iteration 12, inertia 1438.413\n",
            "Iteration 13, inertia 1438.405\n",
            "Converged at iteration 13: center shift 0.000000e+00 within tolerance 6.069252e-10\n",
            "Initialization complete\n",
            "Iteration  0, inertia 2835.156\n",
            "Iteration  1, inertia 1438.560\n",
            "Iteration  2, inertia 1438.492\n",
            "Iteration  3, inertia 1438.275\n",
            "Iteration  4, inertia 1437.573\n",
            "Iteration  5, inertia 1436.644\n",
            "Iteration  6, inertia 1436.158\n",
            "Iteration  7, inertia 1436.006\n",
            "Iteration  8, inertia 1435.967\n",
            "Iteration  9, inertia 1435.955\n",
            "Iteration 10, inertia 1435.949\n",
            "Iteration 11, inertia 1435.946\n",
            "Converged at iteration 11: center shift 0.000000e+00 within tolerance 6.069252e-10\n",
            "Initialization complete\n",
            "Iteration  0, inertia 2843.277\n",
            "Iteration  1, inertia 1438.369\n",
            "Iteration  2, inertia 1438.219\n",
            "Iteration  3, inertia 1438.099\n",
            "Iteration  4, inertia 1437.911\n",
            "Iteration  5, inertia 1437.400\n",
            "Iteration  6, inertia 1436.753\n",
            "Iteration  7, inertia 1436.296\n",
            "Iteration  8, inertia 1436.119\n",
            "Iteration  9, inertia 1436.007\n",
            "Iteration 10, inertia 1435.934\n",
            "Iteration 11, inertia 1435.893\n",
            "Iteration 12, inertia 1435.848\n",
            "Iteration 13, inertia 1435.824\n",
            "Iteration 14, inertia 1435.785\n",
            "Iteration 15, inertia 1435.753\n",
            "Iteration 16, inertia 1435.719\n",
            "Iteration 17, inertia 1435.704\n",
            "Iteration 18, inertia 1435.695\n",
            "Iteration 19, inertia 1435.689\n",
            "Converged at iteration 19: center shift 0.000000e+00 within tolerance 6.069252e-10\n",
            "Initialization complete\n",
            "Iteration  0, inertia 2827.530\n",
            "Iteration  1, inertia 1437.871\n",
            "Iteration  2, inertia 1437.173\n",
            "Iteration  3, inertia 1436.659\n",
            "Iteration  4, inertia 1436.331\n",
            "Iteration  5, inertia 1436.135\n",
            "Iteration  6, inertia 1436.071\n",
            "Iteration  7, inertia 1436.027\n",
            "Iteration  8, inertia 1436.005\n",
            "Iteration  9, inertia 1435.974\n",
            "Iteration 10, inertia 1435.955\n",
            "Iteration 11, inertia 1435.937\n",
            "Converged at iteration 11: center shift 0.000000e+00 within tolerance 6.069252e-10\n"
          ],
          "name": "stdout"
        },
        {
          "output_type": "execute_result",
          "data": {
            "text/plain": [
              "KMeans(algorithm='auto', copy_x=True, init='k-means++', max_iter=300,\n",
              "       n_clusters=3, n_init=10, n_jobs=None, precompute_distances='auto',\n",
              "       random_state=None, tol=0.0001, verbose=True)"
            ]
          },
          "metadata": {
            "tags": []
          },
          "execution_count": 224
        }
      ]
    },
    {
      "cell_type": "code",
      "metadata": {
        "id": "RmsRhDCPobwx",
        "colab_type": "code",
        "outputId": "39c1429c-dba9-4215-ee66-300a7c45d95f",
        "colab": {
          "base_uri": "https://localhost:8080/",
          "height": 87
        }
      },
      "source": [
        "from sklearn import metrics\n",
        "\n",
        "print(\"Homogeneity: %0.3f\" % metrics.homogeneity_score(labels, km.labels_))\n",
        "print(\"Completeness: %0.3f\" % metrics.completeness_score(labels, km.labels_))\n",
        "print(\"V-measure: %0.3f\" % metrics.v_measure_score(labels, km.labels_))\n",
        "print(\"Adjusted Rand-Index: %.3f\"\n",
        "      % metrics.adjusted_rand_score(labels, km.labels_))"
      ],
      "execution_count": 0,
      "outputs": [
        {
          "output_type": "stream",
          "text": [
            "Homogeneity: 0.060\n",
            "Completeness: 0.092\n",
            "V-measure: 0.072\n",
            "Adjusted Rand-Index: 0.073\n"
          ],
          "name": "stdout"
        }
      ]
    },
    {
      "cell_type": "code",
      "metadata": {
        "id": "fln1ZHVTolzW",
        "colab_type": "code",
        "colab": {}
      },
      "source": [
        "pos_test = lda.predict(X_test.toarray())"
      ],
      "execution_count": 0,
      "outputs": []
    },
    {
      "cell_type": "code",
      "metadata": {
        "id": "FSgdBwPX7h72",
        "colab_type": "code",
        "outputId": "ed5640e0-e05b-45e6-925f-313f13d81055",
        "colab": {
          "base_uri": "https://localhost:8080/",
          "height": 34
        }
      },
      "source": [
        "km.n_clusters"
      ],
      "execution_count": 0,
      "outputs": [
        {
          "output_type": "execute_result",
          "data": {
            "text/plain": [
              "3"
            ]
          },
          "metadata": {
            "tags": []
          },
          "execution_count": 232
        }
      ]
    },
    {
      "cell_type": "code",
      "metadata": {
        "id": "Qz7BNyvK7nHt",
        "colab_type": "code",
        "outputId": "9865b68e-5e06-4561-cfda-6325250b2c4f",
        "colab": {
          "base_uri": "https://localhost:8080/",
          "height": 87
        }
      },
      "source": [
        "print(\"Homogeneity: %0.3f\" % metrics.homogeneity_score(y_test, pos_test))\n",
        "print(\"Completeness: %0.3f\" % metrics.completeness_score(y_test, pos_test))\n",
        "print(\"V-measure: %0.3f\" % metrics.v_measure_score(y_test, pos_test))\n",
        "print(\"Adjusted Rand-Index: %.3f\"\n",
        "      % metrics.adjusted_rand_score(y_test, pos_test))"
      ],
      "execution_count": 0,
      "outputs": [
        {
          "output_type": "stream",
          "text": [
            "Homogeneity: 0.311\n",
            "Completeness: 0.360\n",
            "V-measure: 0.334\n",
            "Adjusted Rand-Index: 0.288\n"
          ],
          "name": "stdout"
        }
      ]
    },
    {
      "cell_type": "code",
      "metadata": {
        "id": "PgLQyC2m7wng",
        "colab_type": "code",
        "colab": {}
      },
      "source": [
        ""
      ],
      "execution_count": 0,
      "outputs": []
    }
  ]
}