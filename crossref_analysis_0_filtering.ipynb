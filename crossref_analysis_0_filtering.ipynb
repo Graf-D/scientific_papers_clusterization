{
  "nbformat": 4,
  "nbformat_minor": 0,
  "metadata": {
    "colab": {
      "name": "crossref_analysis.ipynb",
      "provenance": [],
      "collapsed_sections": []
    },
    "kernelspec": {
      "name": "python3",
      "display_name": "Python 3"
    }
  },
  "cells": [
    {
      "cell_type": "code",
      "metadata": {
        "id": "sydRuDJ_t6J0",
        "colab_type": "code",
        "colab": {}
      },
      "source": [
        "import numpy as np\n",
        "import pandas as pd\n",
        "import pyarrow as pa\n",
        "import pyarrow.parquet as pq\n",
        "\n",
        "import matplotlib.pyplot as plt\n",
        "\n",
        "from tqdm import tqdm"
      ],
      "execution_count": 0,
      "outputs": []
    },
    {
      "cell_type": "code",
      "metadata": {
        "id": "-hNMFjmnnXMr",
        "colab_type": "code",
        "outputId": "69c7b658-22f7-4851-a94e-e8b78ea3823f",
        "colab": {
          "base_uri": "https://localhost:8080/",
          "height": 389
        }
      },
      "source": [
        "!wget https://www.dropbox.com/s/4fo1lq10ulqyqy9/crossref_data.csv"
      ],
      "execution_count": 0,
      "outputs": [
        {
          "output_type": "stream",
          "text": [
            "--2020-05-22 18:21:41--  https://www.dropbox.com/s/4fo1lq10ulqyqy9/crossref_data.csv\n",
            "Resolving www.dropbox.com (www.dropbox.com)... 162.125.3.1, 2620:100:6018:1::a27d:301\n",
            "Connecting to www.dropbox.com (www.dropbox.com)|162.125.3.1|:443... connected.\n",
            "HTTP request sent, awaiting response... 301 Moved Permanently\n",
            "Location: /s/raw/4fo1lq10ulqyqy9/crossref_data.csv [following]\n",
            "--2020-05-22 18:21:42--  https://www.dropbox.com/s/raw/4fo1lq10ulqyqy9/crossref_data.csv\n",
            "Reusing existing connection to www.dropbox.com:443.\n",
            "HTTP request sent, awaiting response... 302 Found\n",
            "Location: https://uc8b08c0464f0bcf370c95bbb4f7.dl.dropboxusercontent.com/cd/0/inline/A4NIV13JTKNUQblp34UscxTw3grZ3ZgxwKJFLx2WW1yr87Kvlb6q4UCiP2AwvAGhZmmmGyM5RdRfZpBAkHtszImdXiJRAhVfNcn2Ao9zUYIWb4Su-LUcL5z3t4blAeSeWw4/file# [following]\n",
            "--2020-05-22 18:21:42--  https://uc8b08c0464f0bcf370c95bbb4f7.dl.dropboxusercontent.com/cd/0/inline/A4NIV13JTKNUQblp34UscxTw3grZ3ZgxwKJFLx2WW1yr87Kvlb6q4UCiP2AwvAGhZmmmGyM5RdRfZpBAkHtszImdXiJRAhVfNcn2Ao9zUYIWb4Su-LUcL5z3t4blAeSeWw4/file\n",
            "Resolving uc8b08c0464f0bcf370c95bbb4f7.dl.dropboxusercontent.com (uc8b08c0464f0bcf370c95bbb4f7.dl.dropboxusercontent.com)... 162.125.8.6, 2620:100:601b:6::a27d:806\n",
            "Connecting to uc8b08c0464f0bcf370c95bbb4f7.dl.dropboxusercontent.com (uc8b08c0464f0bcf370c95bbb4f7.dl.dropboxusercontent.com)|162.125.8.6|:443... connected.\n",
            "HTTP request sent, awaiting response... 200 OK\n",
            "Length: 9746490748 (9.1G) [text/plain]\n",
            "Saving to: ‘crossref_data.csv’\n",
            "\n",
            "crossref_data.csv   100%[===================>]   9.08G  44.4MB/s    in 3m 0s   \n",
            "\n",
            "2020-05-22 18:24:43 (51.5 MB/s) - ‘crossref_data.csv’ saved [9746490748/9746490748]\n",
            "\n"
          ],
          "name": "stdout"
        }
      ]
    },
    {
      "cell_type": "code",
      "metadata": {
        "id": "3ppxca9MyC2Y",
        "colab_type": "code",
        "colab": {}
      },
      "source": [
        "# df = pd.read_parquet('crossref_data.parquet')"
      ],
      "execution_count": 0,
      "outputs": []
    },
    {
      "cell_type": "code",
      "metadata": {
        "id": "ChjjE-hb3HBo",
        "colab_type": "code",
        "colab": {}
      },
      "source": [
        "# CHUNCK TEST\n",
        "\n",
        "chunksize = 100_000\n",
        "\n",
        "df = pd.DataFrame()\n",
        "chunk_stream = pd.read_csv('crossref_data.csv', chunksize=chunksize, low_memory=False)\n",
        "\n",
        "c = 0\n",
        "for chunk in tqdm(chunk_stream):\n",
        "    df = pd.concat([df, chunk])\n",
        "    c += 1\n",
        "    if c >= 10:\n",
        "      break\n",
        "\n",
        "df.head()"
      ],
      "execution_count": 0,
      "outputs": []
    },
    {
      "cell_type": "code",
      "metadata": {
        "id": "Ni4RkCzw_C0w",
        "colab_type": "code",
        "outputId": "a26b4a64-d804-4c61-ea37-5daa540d26e3",
        "colab": {
          "base_uri": "https://localhost:8080/",
          "height": 34
        }
      },
      "source": [
        "sum(df['subject'].notna())"
      ],
      "execution_count": 0,
      "outputs": [
        {
          "output_type": "execute_result",
          "data": {
            "text/plain": [
              "465136"
            ]
          },
          "metadata": {
            "tags": []
          },
          "execution_count": 12
        }
      ]
    },
    {
      "cell_type": "code",
      "metadata": {
        "id": "NlH8sU_fBaZT",
        "colab_type": "code",
        "colab": {}
      },
      "source": [
        "import ast\n",
        "import csv\n",
        "\n",
        "from itertools import chain\n",
        "from collections import Counter\n",
        "\n",
        "\n",
        "chunksize = 500_000\n",
        "total = 0\n",
        "notna_subj = 0"
      ],
      "execution_count": 0,
      "outputs": []
    },
    {
      "cell_type": "code",
      "metadata": {
        "id": "e9lDT41WcOiM",
        "colab_type": "code",
        "outputId": "b97d3c9b-ca3c-4546-9536-c22eb25ff8b1",
        "colab": {
          "base_uri": "https://localhost:8080/",
          "height": 281
        }
      },
      "source": [
        "# COMMENTED: WRITING ONLY SUBJ-HAVING ROWS\n",
        "\n",
        "\n",
        "subjects_counter = Counter()\n",
        "\n",
        "chunk_stream = pd.read_csv('crossref_data.csv', chunksize=chunksize, low_memory=False)\n",
        "\n",
        "#with open('has_subject.csv', 'w', encoding='utf-8') as f:\n",
        "#  csvwriter = csv.writer(f)\n",
        "#  csvwriter.writerow(['DOI', 'title', 'abstract', 'subject'])\n",
        "    \n",
        "for i, chunk in enumerate(chunk_stream):\n",
        "  chunk = chunk.drop_duplicates(subset=['DOI'])\n",
        "  total += chunk.shape[0]\n",
        "  notna_subj += sum(chunk['subject'].notna())\n",
        "  curr_subjs = [subj for subj in chunk['subject']]\n",
        "  curr_subjs = [ast.literal_eval(x) for x in curr_subjs if isinstance(x, str)]\n",
        "  subjects_counter += Counter(chain(*curr_subjs))\n",
        "    \n",
        "  #subchunk = chunk[chunk['subject'].notna()]\n",
        "  #subchunk.to_csv(path_or_buf='has_subject.csv', mode='a')\n",
        "\n",
        "  print(f\"Chunk {i}\")\n",
        "\n",
        "print(f\"{i} chunks in total\")"
      ],
      "execution_count": 0,
      "outputs": [
        {
          "output_type": "stream",
          "text": [
            "Chunk 0\n",
            "Chunk 1\n",
            "Chunk 2\n",
            "Chunk 3\n",
            "Chunk 4\n",
            "Chunk 5\n",
            "Chunk 6\n",
            "Chunk 7\n",
            "Chunk 8\n",
            "Chunk 9\n",
            "Chunk 10\n",
            "Chunk 11\n",
            "Chunk 12\n",
            "Chunk 13\n",
            "13 chunks in total\n"
          ],
          "name": "stdout"
        }
      ]
    },
    {
      "cell_type": "code",
      "metadata": {
        "id": "tE4Q8xeBvMhz",
        "colab_type": "code",
        "outputId": "ef0b0bf3-a297-422e-d97c-1f16c082c1b1",
        "colab": {
          "base_uri": "https://localhost:8080/",
          "height": 790
        }
      },
      "source": [
        "# PARQUET WRITING\n",
        "\n",
        "#csv_file = 'crossref_data.csv'\n",
        "#parquet_file = 'crossref_data.parquet'\n",
        "csv_file = 'has_subject.csv'\n",
        "parquet_file = 'has_subject.parquet'\n",
        "chunksize = 100_000\n",
        "\n",
        "csv_stream = pd.read_csv(csv_file, chunksize=chunksize, low_memory=False)\n",
        "\n",
        "for i, chunk in tqdm(enumerate(csv_stream)):\n",
        "    if i == 0:\n",
        "        # Guess the schema of the CSV file from the first chunk\n",
        "        parquet_schema = pa.Table.from_pandas(df=chunk).schema\n",
        "        # Open a Parquet file for writing\n",
        "        parquet_writer = pq.ParquetWriter(parquet_file, parquet_schema, compression='snappy')\n",
        "    # Write CSV chunk to the parquet file\n",
        "    table = pa.Table.from_pandas(chunk, schema=parquet_schema)\n",
        "    parquet_writer.write_table(table)\n",
        "\n",
        "parquet_writer.close()"
      ],
      "execution_count": 0,
      "outputs": [
        {
          "output_type": "stream",
          "text": [
            "\n",
            "\n",
            "\n",
            "0it [00:02, ?it/s]\n"
          ],
          "name": "stderr"
        },
        {
          "output_type": "error",
          "ename": "KeyError",
          "evalue": "ignored",
          "traceback": [
            "\u001b[0;31m---------------------------------------------------------------------------\u001b[0m",
            "\u001b[0;31mKeyError\u001b[0m                                  Traceback (most recent call last)",
            "\u001b[0;32m/usr/local/lib/python3.6/dist-packages/pandas/core/indexes/base.py\u001b[0m in \u001b[0;36mget_loc\u001b[0;34m(self, key, method, tolerance)\u001b[0m\n\u001b[1;32m   2645\u001b[0m             \u001b[0;32mtry\u001b[0m\u001b[0;34m:\u001b[0m\u001b[0;34m\u001b[0m\u001b[0;34m\u001b[0m\u001b[0m\n\u001b[0;32m-> 2646\u001b[0;31m                 \u001b[0;32mreturn\u001b[0m \u001b[0mself\u001b[0m\u001b[0;34m.\u001b[0m\u001b[0m_engine\u001b[0m\u001b[0;34m.\u001b[0m\u001b[0mget_loc\u001b[0m\u001b[0;34m(\u001b[0m\u001b[0mkey\u001b[0m\u001b[0;34m)\u001b[0m\u001b[0;34m\u001b[0m\u001b[0;34m\u001b[0m\u001b[0m\n\u001b[0m\u001b[1;32m   2647\u001b[0m             \u001b[0;32mexcept\u001b[0m \u001b[0mKeyError\u001b[0m\u001b[0;34m:\u001b[0m\u001b[0;34m\u001b[0m\u001b[0;34m\u001b[0m\u001b[0m\n",
            "\u001b[0;32mpandas/_libs/index.pyx\u001b[0m in \u001b[0;36mpandas._libs.index.IndexEngine.get_loc\u001b[0;34m()\u001b[0m\n",
            "\u001b[0;32mpandas/_libs/index.pyx\u001b[0m in \u001b[0;36mpandas._libs.index.IndexEngine.get_loc\u001b[0;34m()\u001b[0m\n",
            "\u001b[0;32mpandas/_libs/hashtable_class_helper.pxi\u001b[0m in \u001b[0;36mpandas._libs.hashtable.PyObjectHashTable.get_item\u001b[0;34m()\u001b[0m\n",
            "\u001b[0;32mpandas/_libs/hashtable_class_helper.pxi\u001b[0m in \u001b[0;36mpandas._libs.hashtable.PyObjectHashTable.get_item\u001b[0;34m()\u001b[0m\n",
            "\u001b[0;31mKeyError\u001b[0m: '__index_level_0__'",
            "\nDuring handling of the above exception, another exception occurred:\n",
            "\u001b[0;31mKeyError\u001b[0m                                  Traceback (most recent call last)",
            "\u001b[0;32m<ipython-input-51-2a515b2b26b6>\u001b[0m in \u001b[0;36m<module>\u001b[0;34m()\u001b[0m\n\u001b[1;32m     16\u001b[0m         \u001b[0mparquet_writer\u001b[0m \u001b[0;34m=\u001b[0m \u001b[0mpq\u001b[0m\u001b[0;34m.\u001b[0m\u001b[0mParquetWriter\u001b[0m\u001b[0;34m(\u001b[0m\u001b[0mparquet_file\u001b[0m\u001b[0;34m,\u001b[0m \u001b[0mparquet_schema\u001b[0m\u001b[0;34m,\u001b[0m \u001b[0mcompression\u001b[0m\u001b[0;34m=\u001b[0m\u001b[0;34m'snappy'\u001b[0m\u001b[0;34m)\u001b[0m\u001b[0;34m\u001b[0m\u001b[0;34m\u001b[0m\u001b[0m\n\u001b[1;32m     17\u001b[0m     \u001b[0;31m# Write CSV chunk to the parquet file\u001b[0m\u001b[0;34m\u001b[0m\u001b[0;34m\u001b[0m\u001b[0;34m\u001b[0m\u001b[0m\n\u001b[0;32m---> 18\u001b[0;31m     \u001b[0mtable\u001b[0m \u001b[0;34m=\u001b[0m \u001b[0mpa\u001b[0m\u001b[0;34m.\u001b[0m\u001b[0mTable\u001b[0m\u001b[0;34m.\u001b[0m\u001b[0mfrom_pandas\u001b[0m\u001b[0;34m(\u001b[0m\u001b[0mchunk\u001b[0m\u001b[0;34m,\u001b[0m \u001b[0mschema\u001b[0m\u001b[0;34m=\u001b[0m\u001b[0mparquet_schema\u001b[0m\u001b[0;34m)\u001b[0m\u001b[0;34m\u001b[0m\u001b[0;34m\u001b[0m\u001b[0m\n\u001b[0m\u001b[1;32m     19\u001b[0m     \u001b[0mparquet_writer\u001b[0m\u001b[0;34m.\u001b[0m\u001b[0mwrite_table\u001b[0m\u001b[0;34m(\u001b[0m\u001b[0mtable\u001b[0m\u001b[0;34m)\u001b[0m\u001b[0;34m\u001b[0m\u001b[0;34m\u001b[0m\u001b[0m\n\u001b[1;32m     20\u001b[0m \u001b[0;34m\u001b[0m\u001b[0m\n",
            "\u001b[0;32m/usr/local/lib/python3.6/dist-packages/pyarrow/table.pxi\u001b[0m in \u001b[0;36mpyarrow.lib.Table.from_pandas\u001b[0;34m()\u001b[0m\n",
            "\u001b[0;32m/usr/local/lib/python3.6/dist-packages/pyarrow/pandas_compat.py\u001b[0m in \u001b[0;36mdataframe_to_arrays\u001b[0;34m(df, schema, preserve_index, nthreads, columns, safe)\u001b[0m\n\u001b[1;32m    458\u001b[0m      \u001b[0mcolumns_to_convert\u001b[0m\u001b[0;34m,\u001b[0m\u001b[0;34m\u001b[0m\u001b[0;34m\u001b[0m\u001b[0m\n\u001b[1;32m    459\u001b[0m      \u001b[0mconvert_fields\u001b[0m\u001b[0;34m)\u001b[0m \u001b[0;34m=\u001b[0m \u001b[0m_get_columns_to_convert\u001b[0m\u001b[0;34m(\u001b[0m\u001b[0mdf\u001b[0m\u001b[0;34m,\u001b[0m \u001b[0mschema\u001b[0m\u001b[0;34m,\u001b[0m \u001b[0mpreserve_index\u001b[0m\u001b[0;34m,\u001b[0m\u001b[0;34m\u001b[0m\u001b[0;34m\u001b[0m\u001b[0m\n\u001b[0;32m--> 460\u001b[0;31m                                                columns)\n\u001b[0m\u001b[1;32m    461\u001b[0m \u001b[0;34m\u001b[0m\u001b[0m\n\u001b[1;32m    462\u001b[0m     \u001b[0;31m# NOTE(wesm): If nthreads=None, then we use a heuristic to decide whether\u001b[0m\u001b[0;34m\u001b[0m\u001b[0;34m\u001b[0m\u001b[0;34m\u001b[0m\u001b[0m\n",
            "\u001b[0;32m/usr/local/lib/python3.6/dist-packages/pyarrow/pandas_compat.py\u001b[0m in \u001b[0;36m_get_columns_to_convert\u001b[0;34m(df, schema, preserve_index, columns)\u001b[0m\n\u001b[1;32m    344\u001b[0m \u001b[0;34m\u001b[0m\u001b[0m\n\u001b[1;32m    345\u001b[0m     \u001b[0;32mfor\u001b[0m \u001b[0mname\u001b[0m \u001b[0;32min\u001b[0m \u001b[0mcolumns\u001b[0m\u001b[0;34m:\u001b[0m\u001b[0;34m\u001b[0m\u001b[0;34m\u001b[0m\u001b[0m\n\u001b[0;32m--> 346\u001b[0;31m         \u001b[0mcol\u001b[0m \u001b[0;34m=\u001b[0m \u001b[0mdf\u001b[0m\u001b[0;34m[\u001b[0m\u001b[0mname\u001b[0m\u001b[0;34m]\u001b[0m\u001b[0;34m\u001b[0m\u001b[0;34m\u001b[0m\u001b[0m\n\u001b[0m\u001b[1;32m    347\u001b[0m         \u001b[0mname\u001b[0m \u001b[0;34m=\u001b[0m \u001b[0m_column_name_to_strings\u001b[0m\u001b[0;34m(\u001b[0m\u001b[0mname\u001b[0m\u001b[0;34m)\u001b[0m\u001b[0;34m\u001b[0m\u001b[0;34m\u001b[0m\u001b[0m\n\u001b[1;32m    348\u001b[0m \u001b[0;34m\u001b[0m\u001b[0m\n",
            "\u001b[0;32m/usr/local/lib/python3.6/dist-packages/pandas/core/frame.py\u001b[0m in \u001b[0;36m__getitem__\u001b[0;34m(self, key)\u001b[0m\n\u001b[1;32m   2798\u001b[0m             \u001b[0;32mif\u001b[0m \u001b[0mself\u001b[0m\u001b[0;34m.\u001b[0m\u001b[0mcolumns\u001b[0m\u001b[0;34m.\u001b[0m\u001b[0mnlevels\u001b[0m \u001b[0;34m>\u001b[0m \u001b[0;36m1\u001b[0m\u001b[0;34m:\u001b[0m\u001b[0;34m\u001b[0m\u001b[0;34m\u001b[0m\u001b[0m\n\u001b[1;32m   2799\u001b[0m                 \u001b[0;32mreturn\u001b[0m \u001b[0mself\u001b[0m\u001b[0;34m.\u001b[0m\u001b[0m_getitem_multilevel\u001b[0m\u001b[0;34m(\u001b[0m\u001b[0mkey\u001b[0m\u001b[0;34m)\u001b[0m\u001b[0;34m\u001b[0m\u001b[0;34m\u001b[0m\u001b[0m\n\u001b[0;32m-> 2800\u001b[0;31m             \u001b[0mindexer\u001b[0m \u001b[0;34m=\u001b[0m \u001b[0mself\u001b[0m\u001b[0;34m.\u001b[0m\u001b[0mcolumns\u001b[0m\u001b[0;34m.\u001b[0m\u001b[0mget_loc\u001b[0m\u001b[0;34m(\u001b[0m\u001b[0mkey\u001b[0m\u001b[0;34m)\u001b[0m\u001b[0;34m\u001b[0m\u001b[0;34m\u001b[0m\u001b[0m\n\u001b[0m\u001b[1;32m   2801\u001b[0m             \u001b[0;32mif\u001b[0m \u001b[0mis_integer\u001b[0m\u001b[0;34m(\u001b[0m\u001b[0mindexer\u001b[0m\u001b[0;34m)\u001b[0m\u001b[0;34m:\u001b[0m\u001b[0;34m\u001b[0m\u001b[0;34m\u001b[0m\u001b[0m\n\u001b[1;32m   2802\u001b[0m                 \u001b[0mindexer\u001b[0m \u001b[0;34m=\u001b[0m \u001b[0;34m[\u001b[0m\u001b[0mindexer\u001b[0m\u001b[0;34m]\u001b[0m\u001b[0;34m\u001b[0m\u001b[0;34m\u001b[0m\u001b[0m\n",
            "\u001b[0;32m/usr/local/lib/python3.6/dist-packages/pandas/core/indexes/base.py\u001b[0m in \u001b[0;36mget_loc\u001b[0;34m(self, key, method, tolerance)\u001b[0m\n\u001b[1;32m   2646\u001b[0m                 \u001b[0;32mreturn\u001b[0m \u001b[0mself\u001b[0m\u001b[0;34m.\u001b[0m\u001b[0m_engine\u001b[0m\u001b[0;34m.\u001b[0m\u001b[0mget_loc\u001b[0m\u001b[0;34m(\u001b[0m\u001b[0mkey\u001b[0m\u001b[0;34m)\u001b[0m\u001b[0;34m\u001b[0m\u001b[0;34m\u001b[0m\u001b[0m\n\u001b[1;32m   2647\u001b[0m             \u001b[0;32mexcept\u001b[0m \u001b[0mKeyError\u001b[0m\u001b[0;34m:\u001b[0m\u001b[0;34m\u001b[0m\u001b[0;34m\u001b[0m\u001b[0m\n\u001b[0;32m-> 2648\u001b[0;31m                 \u001b[0;32mreturn\u001b[0m \u001b[0mself\u001b[0m\u001b[0;34m.\u001b[0m\u001b[0m_engine\u001b[0m\u001b[0;34m.\u001b[0m\u001b[0mget_loc\u001b[0m\u001b[0;34m(\u001b[0m\u001b[0mself\u001b[0m\u001b[0;34m.\u001b[0m\u001b[0m_maybe_cast_indexer\u001b[0m\u001b[0;34m(\u001b[0m\u001b[0mkey\u001b[0m\u001b[0;34m)\u001b[0m\u001b[0;34m)\u001b[0m\u001b[0;34m\u001b[0m\u001b[0;34m\u001b[0m\u001b[0m\n\u001b[0m\u001b[1;32m   2649\u001b[0m         \u001b[0mindexer\u001b[0m \u001b[0;34m=\u001b[0m \u001b[0mself\u001b[0m\u001b[0;34m.\u001b[0m\u001b[0mget_indexer\u001b[0m\u001b[0;34m(\u001b[0m\u001b[0;34m[\u001b[0m\u001b[0mkey\u001b[0m\u001b[0;34m]\u001b[0m\u001b[0;34m,\u001b[0m \u001b[0mmethod\u001b[0m\u001b[0;34m=\u001b[0m\u001b[0mmethod\u001b[0m\u001b[0;34m,\u001b[0m \u001b[0mtolerance\u001b[0m\u001b[0;34m=\u001b[0m\u001b[0mtolerance\u001b[0m\u001b[0;34m)\u001b[0m\u001b[0;34m\u001b[0m\u001b[0;34m\u001b[0m\u001b[0m\n\u001b[1;32m   2650\u001b[0m         \u001b[0;32mif\u001b[0m \u001b[0mindexer\u001b[0m\u001b[0;34m.\u001b[0m\u001b[0mndim\u001b[0m \u001b[0;34m>\u001b[0m \u001b[0;36m1\u001b[0m \u001b[0;32mor\u001b[0m \u001b[0mindexer\u001b[0m\u001b[0;34m.\u001b[0m\u001b[0msize\u001b[0m \u001b[0;34m>\u001b[0m \u001b[0;36m1\u001b[0m\u001b[0;34m:\u001b[0m\u001b[0;34m\u001b[0m\u001b[0;34m\u001b[0m\u001b[0m\n",
            "\u001b[0;32mpandas/_libs/index.pyx\u001b[0m in \u001b[0;36mpandas._libs.index.IndexEngine.get_loc\u001b[0;34m()\u001b[0m\n",
            "\u001b[0;32mpandas/_libs/index.pyx\u001b[0m in \u001b[0;36mpandas._libs.index.IndexEngine.get_loc\u001b[0;34m()\u001b[0m\n",
            "\u001b[0;32mpandas/_libs/hashtable_class_helper.pxi\u001b[0m in \u001b[0;36mpandas._libs.hashtable.PyObjectHashTable.get_item\u001b[0;34m()\u001b[0m\n",
            "\u001b[0;32mpandas/_libs/hashtable_class_helper.pxi\u001b[0m in \u001b[0;36mpandas._libs.hashtable.PyObjectHashTable.get_item\u001b[0;34m()\u001b[0m\n",
            "\u001b[0;31mKeyError\u001b[0m: '__index_level_0__'"
          ]
        }
      ]
    },
    {
      "cell_type": "code",
      "metadata": {
        "id": "KRzQ_n2yLc1Y",
        "colab_type": "code",
        "outputId": "95d79801-eb67-4332-dda7-25c65482163f",
        "colab": {
          "base_uri": "https://localhost:8080/",
          "height": 34
        }
      },
      "source": [
        "total, notna_subj, notna_subj / total"
      ],
      "execution_count": 0,
      "outputs": [
        {
          "output_type": "execute_result",
          "data": {
            "text/plain": [
              "(6984273, 2348224, 0.33621595261239073)"
            ]
          },
          "metadata": {
            "tags": []
          },
          "execution_count": 6
        }
      ]
    },
    {
      "cell_type": "code",
      "metadata": {
        "id": "IrA4PmtksFkA",
        "colab_type": "code",
        "outputId": "fb22db14-ca54-4d25-96b7-ffea0b771c10",
        "colab": {
          "base_uri": "https://localhost:8080/",
          "height": 34
        }
      },
      "source": [
        "len(subjects_counter)"
      ],
      "execution_count": 0,
      "outputs": [
        {
          "output_type": "execute_result",
          "data": {
            "text/plain": [
              "319"
            ]
          },
          "metadata": {
            "tags": []
          },
          "execution_count": 8
        }
      ]
    },
    {
      "cell_type": "code",
      "metadata": {
        "id": "SaqX6h6-WdZN",
        "colab_type": "code",
        "outputId": "49808419-74fd-45ff-e3b7-f8d790b63b08",
        "colab": {
          "base_uri": "https://localhost:8080/",
          "height": 369
        }
      },
      "source": [
        "subjects_counter.most_common(20)"
      ],
      "execution_count": 0,
      "outputs": [
        {
          "output_type": "execute_result",
          "data": {
            "text/plain": [
              "[('General Medicine', 214471),\n",
              " ('Immunology', 207135),\n",
              " ('Cell Biology', 199122),\n",
              " ('Biochemistry', 180095),\n",
              " ('Hematology', 137032),\n",
              " ('Mechanical Engineering', 133543),\n",
              " ('Condensed Matter Physics', 129709),\n",
              " ('General Materials Science', 125180),\n",
              " ('General Chemistry', 107291),\n",
              " ('Mechanics of Materials', 105323),\n",
              " ('Molecular Biology', 101864),\n",
              " ('Physiology', 97734),\n",
              " ('Animal Science and Zoology', 97703),\n",
              " ('Ecology, Evolution, Behavior and Systematics', 88994),\n",
              " ('Microbiology', 72324),\n",
              " ('Oncology', 63943),\n",
              " ('History', 61235),\n",
              " ('Agronomy and Crop Science', 59507),\n",
              " ('Plant Science', 59178),\n",
              " ('Cancer Research', 55922)]"
            ]
          },
          "metadata": {
            "tags": []
          },
          "execution_count": 7
        }
      ]
    },
    {
      "cell_type": "code",
      "metadata": {
        "id": "PoIl3eFnkNdn",
        "colab_type": "code",
        "outputId": "291a874a-ec9f-4a96-f797-b2551154ed2b",
        "colab": {
          "base_uri": "https://localhost:8080/",
          "height": 276
        }
      },
      "source": [
        "sorted_counter = dict(subjects_counter.most_common(50))\n",
        "\n",
        "plt.bar(sorted_counter.keys(), sorted_counter.values())\n",
        "#plt.yscale('log')\n",
        "plt.show()"
      ],
      "execution_count": 0,
      "outputs": [
        {
          "output_type": "display_data",
          "data": {
            "image/png": "[encoded data removed]",
            "text/plain": [
              "<Figure size 432x288 with 1 Axes>"
            ]
          },
          "metadata": {
            "tags": [],
            "needs_background": "light"
          }
        }
      ]
    },
    {
      "cell_type": "code",
      "metadata": {
        "id": "z-9eSPoGpF7g",
        "colab_type": "code",
        "outputId": "f6deb9d2-db58-40a0-9c2f-557911f2ec9f",
        "colab": {
          "base_uri": "https://localhost:8080/",
          "height": 265
        }
      },
      "source": [
        "plt.bar(sorted_counter.keys(), sorted_counter.values())\n",
        "plt.yscale('log')\n",
        "plt.show()"
      ],
      "execution_count": 0,
      "outputs": [
        {
          "output_type": "display_data",
          "data": {
            "image/png": "[encoded data removed]",
            "text/plain": [
              "<Figure size 432x288 with 1 Axes>"
            ]
          },
          "metadata": {
            "tags": [],
            "needs_background": "light"
          }
        }
      ]
    },
    {
      "cell_type": "code",
      "metadata": {
        "id": "Nx_sUdJUqaNp",
        "colab_type": "code",
        "outputId": "3b995099-1bb1-4c39-db9e-73cea1a99fca",
        "colab": {
          "base_uri": "https://localhost:8080/",
          "height": 34
        }
      },
      "source": [
        "len([k for k, v in sorted_counter.items() if v >= 50_000]), len([k for k, v in sorted_counter.items() if v >= 10_000]), len(sorted_counter)"
      ],
      "execution_count": 0,
      "outputs": [
        {
          "output_type": "execute_result",
          "data": {
            "text/plain": [
              "(28, 123, 319)"
            ]
          },
          "metadata": {
            "tags": []
          },
          "execution_count": 94
        }
      ]
    },
    {
      "cell_type": "code",
      "metadata": {
        "id": "kHnLSgz80ODO",
        "colab_type": "code",
        "colab": {}
      },
      "source": [
        "# LIST OF ALL SUBJECTS\n",
        "\n",
        "print('\\n'.join(sorted(subjects_counter.keys(),\n",
        "                       key=lambda x: x[0])))"
      ],
      "execution_count": 0,
      "outputs": []
    },
    {
      "cell_type": "code",
      "metadata": {
        "id": "d98k3cPUGwwT",
        "colab_type": "code",
        "outputId": "cef795a0-e3be-4858-9a09-bb8e7c66eaac",
        "colab": {
          "base_uri": "https://localhost:8080/",
          "height": 457
        }
      },
      "source": [
        "chunksize = 100_000\n",
        "total = 0\n",
        "notna_subj = 0\n",
        "\n",
        "chunk_stream = pd.read_csv('has_subject.csv', chunksize=chunksize, low_memory=False)\n",
        "\n",
        "#with open('has_subject.csv', 'w', encoding='utf-8') as f:\n",
        "#  csvwriter = csv.writer(f)\n",
        "#  csvwriter.writerow(['DOI', 'title', 'abstract', 'subject'])\n",
        "    \n",
        "for i, chunk in enumerate(chunk_stream):\n",
        "  chunk = chunk.drop_duplicates(subset=['DOI'])\n",
        "  total += chunk.shape[0]\n",
        "  notna_subj += sum(chunk['subject'].notna())\n",
        "  curr_subjs = [subj for subj in chunk['subject']]\n",
        "  #curr_subjs = [ast.literal_eval(x) for x in curr_subjs if isinstance(x, str)]\n",
        "  subjects_counter += Counter(chain(*curr_subjs))\n",
        "    \n",
        "  #subchunk = chunk[chunk['subject'].notna()]\n",
        "  #subchunk.to_csv(path_or_buf='has_subject.csv', mode='a')\n",
        "\n",
        "  print(f\"Chunk {i}\")\n",
        "\n",
        "print(f\"{i} chunks in total\")"
      ],
      "execution_count": 0,
      "outputs": [
        {
          "output_type": "stream",
          "text": [
            "Chunk 0\n",
            "Chunk 1\n",
            "Chunk 2\n",
            "Chunk 3\n",
            "Chunk 4\n",
            "Chunk 5\n",
            "Chunk 6\n",
            "Chunk 7\n",
            "Chunk 8\n",
            "Chunk 9\n",
            "Chunk 10\n",
            "Chunk 11\n",
            "Chunk 12\n",
            "Chunk 13\n",
            "Chunk 14\n",
            "Chunk 15\n",
            "Chunk 16\n",
            "Chunk 17\n",
            "Chunk 18\n",
            "Chunk 19\n",
            "Chunk 20\n",
            "Chunk 21\n",
            "Chunk 22\n",
            "Chunk 23\n",
            "23 chunks in total\n"
          ],
          "name": "stdout"
        }
      ]
    },
    {
      "cell_type": "code",
      "metadata": {
        "id": "vIGgaMjkG3G5",
        "colab_type": "code",
        "outputId": "62dbb344-ed44-4076-83df-405deb95a907",
        "colab": {
          "base_uri": "https://localhost:8080/",
          "height": 34
        }
      },
      "source": [
        "total, notna_subj"
      ],
      "execution_count": 0,
      "outputs": [
        {
          "output_type": "execute_result",
          "data": {
            "text/plain": [
              "(2345238, 2345238)"
            ]
          },
          "metadata": {
            "tags": []
          },
          "execution_count": 62
        }
      ]
    },
    {
      "cell_type": "code",
      "metadata": {
        "id": "hECf3C89NrK6",
        "colab_type": "code",
        "outputId": "5414ee1f-4964-414e-c1c9-940211bfa2b3",
        "colab": {
          "base_uri": "https://localhost:8080/",
          "height": 279
        }
      },
      "source": [
        "chunk.head()"
      ],
      "execution_count": 0,
      "outputs": [
        {
          "output_type": "execute_result",
          "data": {
            "text/html": [
              "<div>\n",
              "<style scoped>\n",
              "    .dataframe tbody tr th:only-of-type {\n",
              "        vertical-align: middle;\n",
              "    }\n",
              "\n",
              "    .dataframe tbody tr th {\n",
              "        vertical-align: top;\n",
              "    }\n",
              "\n",
              "    .dataframe thead th {\n",
              "        text-align: right;\n",
              "    }\n",
              "</style>\n",
              "<table border=\"1\" class=\"dataframe\">\n",
              "  <thead>\n",
              "    <tr style=\"text-align: right;\">\n",
              "      <th></th>\n",
              "      <th>DOI</th>\n",
              "      <th>title</th>\n",
              "      <th>abstract</th>\n",
              "      <th>subject</th>\n",
              "    </tr>\n",
              "  </thead>\n",
              "  <tbody>\n",
              "    <tr>\n",
              "      <th>6886129</th>\n",
              "      <td>10.1093/clinchem/27.9.1524</td>\n",
              "      <td>['Relationships between immunogen structure an...</td>\n",
              "      <td>&lt;jats:title&gt;Abstract&lt;/jats:title&gt;\\n           ...</td>\n",
              "      <td>['Clinical Biochemistry', 'Biochemistry, medic...</td>\n",
              "    </tr>\n",
              "    <tr>\n",
              "      <th>6886130</th>\n",
              "      <td>10.1093/clinchem/41.9.1288</td>\n",
              "      <td>['Low plasma concentrations of retinol-binding...</td>\n",
              "      <td>&lt;jats:title&gt;Abstract&lt;/jats:title&gt;\\n           ...</td>\n",
              "      <td>['Clinical Biochemistry', 'Biochemistry, medic...</td>\n",
              "    </tr>\n",
              "    <tr>\n",
              "      <th>6886131</th>\n",
              "      <td>10.1093/clinchem/46.4.543</td>\n",
              "      <td>['Clinical Outcomes of Point-of-Care Testing i...</td>\n",
              "      <td>&lt;jats:title&gt;Abstract&lt;/jats:title&gt;\\n           ...</td>\n",
              "      <td>['Clinical Biochemistry', 'Biochemistry, medic...</td>\n",
              "    </tr>\n",
              "    <tr>\n",
              "      <th>6886133</th>\n",
              "      <td>10.1128/cdli.5.4.446-451.1998</td>\n",
              "      <td>['Detection of Mycobacterium avium subsp.parat...</td>\n",
              "      <td>&lt;jats:title&gt;ABSTRACT&lt;/jats:title&gt;\\n           ...</td>\n",
              "      <td>['Immunology', 'Immunology and Allergy', 'Micr...</td>\n",
              "    </tr>\n",
              "    <tr>\n",
              "      <th>6886134</th>\n",
              "      <td>10.1128/jb.180.3.594-599.1998</td>\n",
              "      <td>['Identification of Campylobacter jejuniPromot...</td>\n",
              "      <td>&lt;jats:title&gt;ABSTRACT&lt;/jats:title&gt;\\n           ...</td>\n",
              "      <td>['Molecular Biology', 'Microbiology']</td>\n",
              "    </tr>\n",
              "  </tbody>\n",
              "</table>\n",
              "</div>"
            ],
            "text/plain": [
              "                                   DOI  ...                                            subject\n",
              "6886129     10.1093/clinchem/27.9.1524  ...  ['Clinical Biochemistry', 'Biochemistry, medic...\n",
              "6886130     10.1093/clinchem/41.9.1288  ...  ['Clinical Biochemistry', 'Biochemistry, medic...\n",
              "6886131      10.1093/clinchem/46.4.543  ...  ['Clinical Biochemistry', 'Biochemistry, medic...\n",
              "6886133  10.1128/cdli.5.4.446-451.1998  ...  ['Immunology', 'Immunology and Allergy', 'Micr...\n",
              "6886134  10.1128/jb.180.3.594-599.1998  ...              ['Molecular Biology', 'Microbiology']\n",
              "\n",
              "[5 rows x 4 columns]"
            ]
          },
          "metadata": {
            "tags": []
          },
          "execution_count": 63
        }
      ]
    },
    {
      "cell_type": "code",
      "metadata": {
        "id": "qhLh4Uc-O-e4",
        "colab_type": "code",
        "outputId": "a0a00283-adfb-4e1c-cd69-11361a75e759",
        "colab": {
          "base_uri": "https://localhost:8080/",
          "height": 193
        }
      },
      "source": [
        "list(chunk[:10].subject)"
      ],
      "execution_count": 0,
      "outputs": [
        {
          "output_type": "execute_result",
          "data": {
            "text/plain": [
              "[\"['Clinical Biochemistry', 'Biochemistry, medical']\",\n",
              " \"['Clinical Biochemistry', 'Biochemistry, medical']\",\n",
              " \"['Clinical Biochemistry', 'Biochemistry, medical']\",\n",
              " \"['Immunology', 'Immunology and Allergy', 'Microbiology (medical)', 'Clinical Biochemistry']\",\n",
              " \"['Molecular Biology', 'Microbiology']\",\n",
              " \"['Molecular Biology', 'Microbiology']\",\n",
              " \"['Molecular Biology', 'Microbiology']\",\n",
              " \"['Immunology', 'Cell Biology', 'Biochemistry', 'Hematology']\",\n",
              " \"['Cancer Research', 'Oncology']\",\n",
              " \"['Clinical Biochemistry', 'Biochemistry, medical']\"]"
            ]
          },
          "metadata": {
            "tags": []
          },
          "execution_count": 67
        }
      ]
    },
    {
      "cell_type": "code",
      "metadata": {
        "id": "BR9ucokvPB3S",
        "colab_type": "code",
        "outputId": "44c84eca-ad6a-46c7-a9c7-b66c4587ab25",
        "colab": {
          "base_uri": "https://localhost:8080/",
          "height": 34
        }
      },
      "source": [
        "np.unique(chunk.subject).shape"
      ],
      "execution_count": 0,
      "outputs": [
        {
          "output_type": "execute_result",
          "data": {
            "text/plain": [
              "(1278,)"
            ]
          },
          "metadata": {
            "tags": []
          },
          "execution_count": 73
        }
      ]
    },
    {
      "cell_type": "code",
      "metadata": {
        "id": "M3Yo1onLSf5s",
        "colab_type": "code",
        "outputId": "194c2899-8d57-40a6-b4f7-1d36df3c9ae1",
        "colab": {
          "base_uri": "https://localhost:8080/",
          "height": 34
        }
      },
      "source": [
        "chunk.shape"
      ],
      "execution_count": 0,
      "outputs": [
        {
          "output_type": "execute_result",
          "data": {
            "text/plain": [
              "(45239, 4)"
            ]
          },
          "metadata": {
            "tags": []
          },
          "execution_count": 74
        }
      ]
    },
    {
      "cell_type": "code",
      "metadata": {
        "id": "ED8BSwX8SjiO",
        "colab_type": "code",
        "colab": {}
      },
      "source": [
        ""
      ],
      "execution_count": 0,
      "outputs": []
    }
  ]
}